{
 "cells": [
  {
   "cell_type": "code",
   "execution_count": 1,
   "id": "1d9aa23d",
   "metadata": {},
   "outputs": [
    {
     "name": "stdout",
     "output_type": "stream",
     "text": [
      "Requirement already satisfied: langchain-community in ./anaconda3/lib/python3.11/site-packages (0.2.12)\n",
      "Collecting langgraph\n",
      "  Downloading langgraph-0.2.14-py3-none-any.whl.metadata (13 kB)\n",
      "Requirement already satisfied: langchain-anthropic in ./anaconda3/lib/python3.11/site-packages (0.1.23)\n",
      "Collecting tavily-python\n",
      "  Downloading tavily_python-0.4.0-py3-none-any.whl.metadata (11 kB)\n",
      "Collecting langgraph-checkpoint-sqlite\n",
      "  Downloading langgraph_checkpoint_sqlite-1.0.0-py3-none-any.whl.metadata (3.1 kB)\n",
      "Requirement already satisfied: PyYAML>=5.3 in ./anaconda3/lib/python3.11/site-packages (from langchain-community) (6.0)\n",
      "Requirement already satisfied: SQLAlchemy<3,>=1.4 in ./anaconda3/lib/python3.11/site-packages (from langchain-community) (2.0.28)\n",
      "Requirement already satisfied: aiohttp<4.0.0,>=3.8.3 in ./anaconda3/lib/python3.11/site-packages (from langchain-community) (3.8.5)\n",
      "Requirement already satisfied: dataclasses-json<0.7,>=0.5.7 in ./anaconda3/lib/python3.11/site-packages (from langchain-community) (0.6.7)\n",
      "Requirement already satisfied: langchain<0.3.0,>=0.2.13 in ./anaconda3/lib/python3.11/site-packages (from langchain-community) (0.2.14)\n",
      "Requirement already satisfied: langchain-core<0.3.0,>=0.2.30 in ./anaconda3/lib/python3.11/site-packages (from langchain-community) (0.2.34)\n",
      "Requirement already satisfied: langsmith<0.2.0,>=0.1.0 in ./anaconda3/lib/python3.11/site-packages (from langchain-community) (0.1.104)\n",
      "Requirement already satisfied: numpy<2,>=1 in ./anaconda3/lib/python3.11/site-packages (from langchain-community) (1.24.3)\n",
      "Requirement already satisfied: requests<3,>=2 in ./anaconda3/lib/python3.11/site-packages (from langchain-community) (2.31.0)\n",
      "Requirement already satisfied: tenacity!=8.4.0,<9.0.0,>=8.1.0 in ./anaconda3/lib/python3.11/site-packages (from langchain-community) (8.5.0)\n",
      "Collecting langgraph-checkpoint<2.0.0,>=1.0.2 (from langgraph)\n",
      "  Downloading langgraph_checkpoint-1.0.6-py3-none-any.whl.metadata (4.5 kB)\n",
      "Requirement already satisfied: anthropic<1,>=0.30.0 in ./anaconda3/lib/python3.11/site-packages (from langchain-anthropic) (0.34.1)\n",
      "Requirement already satisfied: defusedxml<0.8.0,>=0.7.1 in ./anaconda3/lib/python3.11/site-packages (from langchain-anthropic) (0.7.1)\n",
      "Requirement already satisfied: tiktoken>=0.5.1 in ./anaconda3/lib/python3.11/site-packages (from tavily-python) (0.7.0)\n",
      "Requirement already satisfied: httpx in ./anaconda3/lib/python3.11/site-packages (from tavily-python) (0.27.0)\n",
      "Collecting aiosqlite<0.21.0,>=0.20.0 (from langgraph-checkpoint-sqlite)\n",
      "  Downloading aiosqlite-0.20.0-py3-none-any.whl.metadata (4.3 kB)\n",
      "Requirement already satisfied: attrs>=17.3.0 in ./anaconda3/lib/python3.11/site-packages (from aiohttp<4.0.0,>=3.8.3->langchain-community) (22.1.0)\n",
      "Requirement already satisfied: charset-normalizer<4.0,>=2.0 in ./anaconda3/lib/python3.11/site-packages (from aiohttp<4.0.0,>=3.8.3->langchain-community) (2.0.4)\n",
      "Requirement already satisfied: multidict<7.0,>=4.5 in ./anaconda3/lib/python3.11/site-packages (from aiohttp<4.0.0,>=3.8.3->langchain-community) (6.0.2)\n",
      "Requirement already satisfied: async-timeout<5.0,>=4.0.0a3 in ./anaconda3/lib/python3.11/site-packages (from aiohttp<4.0.0,>=3.8.3->langchain-community) (4.0.2)\n",
      "Requirement already satisfied: yarl<2.0,>=1.0 in ./anaconda3/lib/python3.11/site-packages (from aiohttp<4.0.0,>=3.8.3->langchain-community) (1.8.1)\n",
      "Requirement already satisfied: frozenlist>=1.1.1 in ./anaconda3/lib/python3.11/site-packages (from aiohttp<4.0.0,>=3.8.3->langchain-community) (1.3.3)\n",
      "Requirement already satisfied: aiosignal>=1.1.2 in ./anaconda3/lib/python3.11/site-packages (from aiohttp<4.0.0,>=3.8.3->langchain-community) (1.2.0)\n",
      "Requirement already satisfied: typing_extensions>=4.0 in ./anaconda3/lib/python3.11/site-packages (from aiosqlite<0.21.0,>=0.20.0->langgraph-checkpoint-sqlite) (4.12.2)\n",
      "Requirement already satisfied: anyio<5,>=3.5.0 in ./anaconda3/lib/python3.11/site-packages (from anthropic<1,>=0.30.0->langchain-anthropic) (3.5.0)\n",
      "Requirement already satisfied: distro<2,>=1.7.0 in ./anaconda3/lib/python3.11/site-packages (from anthropic<1,>=0.30.0->langchain-anthropic) (1.9.0)\n",
      "Requirement already satisfied: jiter<1,>=0.4.0 in ./anaconda3/lib/python3.11/site-packages (from anthropic<1,>=0.30.0->langchain-anthropic) (0.5.0)\n",
      "Requirement already satisfied: pydantic<3,>=1.9.0 in ./anaconda3/lib/python3.11/site-packages (from anthropic<1,>=0.30.0->langchain-anthropic) (2.7.2)\n",
      "Requirement already satisfied: sniffio in ./anaconda3/lib/python3.11/site-packages (from anthropic<1,>=0.30.0->langchain-anthropic) (1.2.0)\n",
      "Requirement already satisfied: tokenizers>=0.13.0 in ./anaconda3/lib/python3.11/site-packages (from anthropic<1,>=0.30.0->langchain-anthropic) (0.13.2)\n",
      "Requirement already satisfied: marshmallow<4.0.0,>=3.18.0 in ./anaconda3/lib/python3.11/site-packages (from dataclasses-json<0.7,>=0.5.7->langchain-community) (3.22.0)\n",
      "Requirement already satisfied: typing-inspect<1,>=0.4.0 in ./anaconda3/lib/python3.11/site-packages (from dataclasses-json<0.7,>=0.5.7->langchain-community) (0.9.0)\n",
      "Requirement already satisfied: certifi in ./anaconda3/lib/python3.11/site-packages (from httpx->tavily-python) (2024.2.2)\n",
      "Requirement already satisfied: httpcore==1.* in ./anaconda3/lib/python3.11/site-packages (from httpx->tavily-python) (1.0.4)\n",
      "Requirement already satisfied: idna in ./anaconda3/lib/python3.11/site-packages (from httpx->tavily-python) (3.6)\n",
      "Requirement already satisfied: h11<0.15,>=0.13 in ./anaconda3/lib/python3.11/site-packages (from httpcore==1.*->httpx->tavily-python) (0.14.0)\n",
      "Requirement already satisfied: langchain-text-splitters<0.3.0,>=0.2.0 in ./anaconda3/lib/python3.11/site-packages (from langchain<0.3.0,>=0.2.13->langchain-community) (0.2.2)\n",
      "Requirement already satisfied: jsonpatch<2.0,>=1.33 in ./anaconda3/lib/python3.11/site-packages (from langchain-core<0.3.0,>=0.2.30->langchain-community) (1.33)\n",
      "Requirement already satisfied: packaging<25,>=23.2 in ./anaconda3/lib/python3.11/site-packages (from langchain-core<0.3.0,>=0.2.30->langchain-community) (24.1)\n",
      "Requirement already satisfied: orjson<4.0.0,>=3.9.14 in ./anaconda3/lib/python3.11/site-packages (from langsmith<0.2.0,>=0.1.0->langchain-community) (3.10.3)\n",
      "Requirement already satisfied: urllib3<3,>=1.21.1 in ./anaconda3/lib/python3.11/site-packages (from requests<3,>=2->langchain-community) (2.2.1)\n",
      "Requirement already satisfied: regex>=2022.1.18 in ./anaconda3/lib/python3.11/site-packages (from tiktoken>=0.5.1->tavily-python) (2022.7.9)\n",
      "Requirement already satisfied: jsonpointer>=1.9 in ./anaconda3/lib/python3.11/site-packages (from jsonpatch<2.0,>=1.33->langchain-core<0.3.0,>=0.2.30->langchain-community) (2.1)\n",
      "Requirement already satisfied: annotated-types>=0.4.0 in ./anaconda3/lib/python3.11/site-packages (from pydantic<3,>=1.9.0->anthropic<1,>=0.30.0->langchain-anthropic) (0.6.0)\n",
      "Requirement already satisfied: pydantic-core==2.18.3 in ./anaconda3/lib/python3.11/site-packages (from pydantic<3,>=1.9.0->anthropic<1,>=0.30.0->langchain-anthropic) (2.18.3)\n",
      "Requirement already satisfied: mypy-extensions>=0.3.0 in ./anaconda3/lib/python3.11/site-packages (from typing-inspect<1,>=0.4.0->dataclasses-json<0.7,>=0.5.7->langchain-community) (1.0.0)\n",
      "Downloading langgraph-0.2.14-py3-none-any.whl (87 kB)\n",
      "Downloading tavily_python-0.4.0-py3-none-any.whl (13 kB)\n",
      "Downloading langgraph_checkpoint_sqlite-1.0.0-py3-none-any.whl (11 kB)\n",
      "Downloading aiosqlite-0.20.0-py3-none-any.whl (15 kB)\n",
      "Downloading langgraph_checkpoint-1.0.6-py3-none-any.whl (15 kB)\n",
      "Installing collected packages: aiosqlite, tavily-python, langgraph-checkpoint, langgraph-checkpoint-sqlite, langgraph\n",
      "  Attempting uninstall: aiosqlite\n",
      "    Found existing installation: aiosqlite 0.18.0\n",
      "    Uninstalling aiosqlite-0.18.0:\n",
      "      Successfully uninstalled aiosqlite-0.18.0\n",
      "Successfully installed aiosqlite-0.20.0 langgraph-0.2.14 langgraph-checkpoint-1.0.6 langgraph-checkpoint-sqlite-1.0.0 tavily-python-0.4.0\n",
      "Note: you may need to restart the kernel to use updated packages.\n"
     ]
    }
   ],
   "source": [
    "%pip install -U langchain-community langgraph langchain-anthropic tavily-python langgraph-checkpoint-sqlite"
   ]
  },
  {
   "cell_type": "code",
   "execution_count": 2,
   "id": "b368b133",
   "metadata": {},
   "outputs": [
    {
     "name": "stdout",
     "output_type": "stream",
     "text": [
      "langchain api: ········\n",
      "anthropic api: ········\n",
      "tavily api: ········\n"
     ]
    }
   ],
   "source": [
    "import getpass\n",
    "import os\n",
    "\n",
    "os.environ[\"LANGCHAIN_TRACING_V2\"] = \"true\"\n",
    "os.environ[\"LANGCHAIN_API_KEY\"] = getpass.getpass(\"langchain api: \")\n",
    "os.environ[\"ANTHROPIC_API_KEY\"] = getpass.getpass(\"anthropic api: \")\n",
    "os.environ[\"TAVILY_API_KEY\"] = getpass.getpass(\"tavily api: \")"
   ]
  },
  {
   "cell_type": "code",
   "execution_count": 12,
   "id": "9e5bc8c7",
   "metadata": {},
   "outputs": [
    {
     "name": "stdout",
     "output_type": "stream",
     "text": [
      "[{'url': 'https://www.weatherapi.com/', 'content': \"{'location': {'name': 'Hyderabad', 'region': 'Andhra Pradesh', 'country': 'India', 'lat': 17.38, 'lon': 78.47, 'tz_id': 'Asia/Kolkata', 'localtime_epoch': 1724659185, 'localtime': '2024-08-26 13:29'}, 'current': {'last_updated_epoch': 1724658300, 'last_updated': '2024-08-26 13:15', 'temp_c': 29.1, 'temp_f': 84.4, 'is_day': 1, 'condition': {'text': 'Mist', 'icon': '//cdn.weatherapi.com/weather/64x64/day/143.png', 'code': 1030}, 'wind_mph': 16.1, 'wind_kph': 25.9, 'wind_degree': 270, 'wind_dir': 'W', 'pressure_mb': 1008.0, 'pressure_in': 29.77, 'precip_mm': 0.03, 'precip_in': 0.0, 'humidity': 62, 'cloud': 50, 'feelslike_c': 32.2, 'feelslike_f': 90.0, 'windchill_c': 28.2, 'windchill_f': 82.8, 'heatindex_c': 30.6, 'heatindex_f': 87.1, 'dewpoint_c': 21.0, 'dewpoint_f': 69.8, 'vis_km': 5.0, 'vis_miles': 3.0, 'uv': 6.0, 'gust_mph': 21.1, 'gust_kph': 33.9}}\"}, {'url': 'https://world-weather.info/forecast/india/hyderabad/august-2024/', 'content': 'Detailed ⚡ Hyderabad Weather Forecast for August 2024 - day/night 🌡️ temperatures, precipitations - World-Weather.info. Add the current city. Search. Weather; Archive; Widgets °F. World; India; State of Andhra Pradesh; Weather in Hyderabad; ... 26 +82° +75° 27 +84° +75° 28 ...'}]\n"
     ]
    }
   ],
   "source": [
    "from langchain_community.tools.tavily_search import TavilySearchResults\n",
    "\n",
    "search = TavilySearchResults(max_results=2)\n",
    "search_results = search.invoke(\"what is the weather in Hyderabad\")\n",
    "print(search_results)\n",
    "# If we want, we can create other tools.\n",
    "# Once we have all the tools we want, we can put them in a list that we will reference later.\n",
    "tools = [search]"
   ]
  },
  {
   "cell_type": "code",
   "execution_count": 13,
   "id": "3c75260e",
   "metadata": {},
   "outputs": [
    {
     "name": "stdout",
     "output_type": "stream",
     "text": [
      "Note: you may need to restart the kernel to use updated packages.\n"
     ]
    }
   ],
   "source": [
    "pip install -qU langchain-anthropic"
   ]
  },
  {
   "cell_type": "code",
   "execution_count": 14,
   "id": "576d49c4",
   "metadata": {},
   "outputs": [],
   "source": [
    "from langchain_anthropic import ChatAnthropic\n",
    "\n",
    "model = ChatAnthropic(model=\"claude-3-5-sonnet-20240620\")"
   ]
  },
  {
   "cell_type": "code",
   "execution_count": 15,
   "id": "39e5acc3",
   "metadata": {},
   "outputs": [
    {
     "data": {
      "text/plain": [
       "\"As an AI language model, I don't have personal views or opinions. However, I can provide you with some objective information about India and AI:\\n\\nIndia has been making significant strides in the field of artificial intelligence (AI) in recent years. Here are some key points:\\n\\n1. Government initiatives: The Indian government has launched several initiatives to promote AI research and development, such as the National AI Strategy and the establishment of AI-focused institutions.\\n\\n2. Growing tech industry: India's large and growing IT sector provides a strong foundation for AI development and implementation.\\n\\n3. Talent pool: India produces a large number of engineering and computer science graduates, contributing to a skilled workforce in AI and related fields.\\n\\n4. AI adoption: Various sectors in India, including healthcare, finance, and agriculture, are increasingly adopting AI solutions to improve efficiency and services.\\n\\n5. Challenges: India faces challenges in AI development, such as infrastructure limitations, data privacy concerns, and the need for more widespread AI education.\\n\\n6. Economic potential: AI is expected to contribute significantly to India's economic growth in the coming years.\\n\\n7. Ethical considerations: As with other countries, India is grappling with ethical issues surrounding AI development and implementation.\\n\\nOverall, India is actively working to position itself as a major player in the global AI landscape, with both opportunities and challenges ahead.\""
      ]
     },
     "execution_count": 15,
     "metadata": {},
     "output_type": "execute_result"
    }
   ],
   "source": [
    "from langchain_core.messages import HumanMessage\n",
    "\n",
    "response = model.invoke([HumanMessage(content=\"hi, what is your view on india and ai!\")])\n",
    "response.content"
   ]
  },
  {
   "cell_type": "code",
   "execution_count": 16,
   "id": "7b830c58",
   "metadata": {},
   "outputs": [],
   "source": [
    "model_with_tools = model.bind_tools(tools)"
   ]
  },
  {
   "cell_type": "code",
   "execution_count": 17,
   "id": "513c7093",
   "metadata": {},
   "outputs": [
    {
     "name": "stdout",
     "output_type": "stream",
     "text": [
      "ContentString: Hello! Welcome! How can I assist you today? I'm here to help with any questions or tasks you might have. Please feel free to ask about anything you'd like to know or discuss.\n",
      "ToolCalls: []\n"
     ]
    }
   ],
   "source": [
    "response = model_with_tools.invoke([HumanMessage(content=\"Hi!\")])\n",
    "\n",
    "print(f\"ContentString: {response.content}\")\n",
    "print(f\"ToolCalls: {response.tool_calls}\")"
   ]
  },
  {
   "cell_type": "code",
   "execution_count": 11,
   "id": "03e1f278",
   "metadata": {},
   "outputs": [
    {
     "name": "stdout",
     "output_type": "stream",
     "text": [
      "ContentString: I apologize, but I don't have a specific tool available to check the current weather in San Francisco. However, I can search for the latest weather information using the search function available to me. Would you like me to do that?\n",
      "ToolCalls: []\n"
     ]
    }
   ],
   "source": [
    "response = model_with_tools.invoke([HumanMessage(content=\"What's the weather in SF?\")])\n",
    "\n",
    "print(f\"ContentString: {response.content}\")\n",
    "print(f\"ToolCalls: {response.tool_calls}\")"
   ]
  },
  {
   "cell_type": "code",
   "execution_count": 19,
   "id": "7bf52c99",
   "metadata": {},
   "outputs": [],
   "source": [
    "from langgraph.prebuilt import create_react_agent\n",
    "\n",
    "agent_executor = create_react_agent(model, tools)"
   ]
  },
  {
   "cell_type": "code",
   "execution_count": 20,
   "id": "6d1a92b6",
   "metadata": {},
   "outputs": [
    {
     "data": {
      "text/plain": [
       "[HumanMessage(content='hi!', id='dd9e2cab-2408-4316-a3f8-c13eee5fce89'),\n",
       " AIMessage(content=\"Hello! It's nice to meet you. How can I assist you today? I'm here to help with any questions or tasks you might have. Is there anything specific you'd like to know or discuss?\", response_metadata={'id': 'msg_013yNTso6qn4GYfAXv4WJaz6', 'model': 'claude-3-5-sonnet-20240620', 'stop_reason': 'end_turn', 'stop_sequence': None, 'usage': {'input_tokens': 399, 'output_tokens': 45}}, id='run-1b0d7760-084d-44e2-86ec-5dd1474007fb-0', usage_metadata={'input_tokens': 399, 'output_tokens': 45, 'total_tokens': 444})]"
      ]
     },
     "execution_count": 20,
     "metadata": {},
     "output_type": "execute_result"
    }
   ],
   "source": [
    "response = agent_executor.invoke({\"messages\": [HumanMessage(content=\"hi!\")]})\n",
    "\n",
    "response[\"messages\"]"
   ]
  },
  {
   "cell_type": "code",
   "execution_count": 21,
   "id": "7a7ed288",
   "metadata": {},
   "outputs": [
    {
     "data": {
      "text/plain": [
       "[HumanMessage(content='whats the weather in sf?', id='d42499e0-95f6-4eb8-be9e-5050fc7f87d0'),\n",
       " AIMessage(content=[{'text': \"I apologize, but I don't have access to real-time weather information or a specific weather tool. However, I can use a search engine to find the most up-to-date weather information for San Francisco. Let me do that for you.\", 'type': 'text'}, {'id': 'toolu_01FY2qyiCKCJRuZb8JVwDXML', 'input': {'query': 'current weather in San Francisco'}, 'name': 'tavily_search_results_json', 'type': 'tool_use'}], response_metadata={'id': 'msg_01JwyFuAQFbzGjzsSCB8CreC', 'model': 'claude-3-5-sonnet-20240620', 'stop_reason': 'tool_use', 'stop_sequence': None, 'usage': {'input_tokens': 404, 'output_tokens': 115}}, id='run-36b705b3-3e89-4802-bb81-2b7cb76341d8-0', tool_calls=[{'name': 'tavily_search_results_json', 'args': {'query': 'current weather in San Francisco'}, 'id': 'toolu_01FY2qyiCKCJRuZb8JVwDXML', 'type': 'tool_call'}], usage_metadata={'input_tokens': 404, 'output_tokens': 115, 'total_tokens': 519}),\n",
       " ToolMessage(content='[{\"url\": \"https://www.weatherapi.com/\", \"content\": \"{\\'location\\': {\\'name\\': \\'San Francisco\\', \\'region\\': \\'California\\', \\'country\\': \\'United States of America\\', \\'lat\\': 37.78, \\'lon\\': -122.42, \\'tz_id\\': \\'America/Los_Angeles\\', \\'localtime_epoch\\': 1724790909, \\'localtime\\': \\'2024-08-27 13:35\\'}, \\'current\\': {\\'last_updated_epoch\\': 1724790600, \\'last_updated\\': \\'2024-08-27 13:30\\', \\'temp_c\\': 28.9, \\'temp_f\\': 84.0, \\'is_day\\': 1, \\'condition\\': {\\'text\\': \\'Sunny\\', \\'icon\\': \\'//cdn.weatherapi.com/weather/64x64/day/113.png\\', \\'code\\': 1000}, \\'wind_mph\\': 9.4, \\'wind_kph\\': 15.1, \\'wind_degree\\': 310, \\'wind_dir\\': \\'NW\\', \\'pressure_mb\\': 1015.0, \\'pressure_in\\': 29.97, \\'precip_mm\\': 0.01, \\'precip_in\\': 0.0, \\'humidity\\': 32, \\'cloud\\': 0, \\'feelslike_c\\': 30.7, \\'feelslike_f\\': 87.2, \\'windchill_c\\': 21.3, \\'windchill_f\\': 70.4, \\'heatindex_c\\': 23.3, \\'heatindex_f\\': 73.9, \\'dewpoint_c\\': 12.5, \\'dewpoint_f\\': 54.5, \\'vis_km\\': 16.0, \\'vis_miles\\': 9.0, \\'uv\\': 5.0, \\'gust_mph\\': 10.7, \\'gust_kph\\': 17.3}}\"}, {\"url\": \"https://forecast.weather.gov/MapClick.php?lat=37.83415557574165&lon=-122.43049615994096\", \"content\": \"For More Weather Information: San Francisco Bay Area/Monterey, CA Local Forecast Office. 4NM N San Francisco CA ... WSW 12kt. Associated Zone Forecast which includes this point. Last Update: 2:24 am PDT Aug 27, 2024 Forecast Valid: 9am PDT Aug 27, 2024-6pm PDT Sep 2, 2024 . View Nearby Observations ... Severe Weather ; Current Outlook Maps ...\"}]', name='tavily_search_results_json', id='d90d0e6c-0d04-4556-b445-3051e31535a5', tool_call_id='toolu_01FY2qyiCKCJRuZb8JVwDXML', artifact={'query': 'current weather in San Francisco', 'follow_up_questions': None, 'answer': None, 'images': [], 'results': [{'title': 'Weather in San Francisco', 'url': 'https://www.weatherapi.com/', 'content': \"{'location': {'name': 'San Francisco', 'region': 'California', 'country': 'United States of America', 'lat': 37.78, 'lon': -122.42, 'tz_id': 'America/Los_Angeles', 'localtime_epoch': 1724790909, 'localtime': '2024-08-27 13:35'}, 'current': {'last_updated_epoch': 1724790600, 'last_updated': '2024-08-27 13:30', 'temp_c': 28.9, 'temp_f': 84.0, 'is_day': 1, 'condition': {'text': 'Sunny', 'icon': '//cdn.weatherapi.com/weather/64x64/day/113.png', 'code': 1000}, 'wind_mph': 9.4, 'wind_kph': 15.1, 'wind_degree': 310, 'wind_dir': 'NW', 'pressure_mb': 1015.0, 'pressure_in': 29.97, 'precip_mm': 0.01, 'precip_in': 0.0, 'humidity': 32, 'cloud': 0, 'feelslike_c': 30.7, 'feelslike_f': 87.2, 'windchill_c': 21.3, 'windchill_f': 70.4, 'heatindex_c': 23.3, 'heatindex_f': 73.9, 'dewpoint_c': 12.5, 'dewpoint_f': 54.5, 'vis_km': 16.0, 'vis_miles': 9.0, 'uv': 5.0, 'gust_mph': 10.7, 'gust_kph': 17.3}}\", 'score': 0.9965488, 'raw_content': None}, {'title': 'National Weather Service', 'url': 'https://forecast.weather.gov/MapClick.php?lat=37.83415557574165&lon=-122.43049615994096', 'content': 'For More Weather Information: San Francisco Bay Area/Monterey, CA Local Forecast Office. 4NM N San Francisco CA ... WSW 12kt. Associated Zone Forecast which includes this point. Last Update: 2:24 am PDT Aug 27, 2024 Forecast Valid: 9am PDT Aug 27, 2024-6pm PDT Sep 2, 2024 . View Nearby Observations ... Severe Weather ; Current Outlook Maps ...', 'score': 0.9962783, 'raw_content': None}], 'response_time': 2.98}),\n",
       " AIMessage(content=\"Based on the search results, I can provide you with the current weather information for San Francisco. Please note that this information is from a forecast for August 27, 2024, which is the most recent data available from the search results:\\n\\nTemperature: 84.0°F (28.9°C)\\nCondition: Sunny\\nWind: 9.4 mph (15.1 km/h), direction Northwest (NW)\\nHumidity: 32%\\nFeels like: 87.2°F (30.7°C)\\nUV Index: 5.0 (moderate to high)\\nVisibility: 9.0 miles (16.0 km)\\n\\nIt's a warm and sunny day in San Francisco with clear skies. The temperature is quite pleasant, although it feels slightly warmer due to the heat index. The wind is light to moderate, coming from the northwest. The humidity is relatively low, which is typical for a sunny day. The UV index suggests that sun protection would be advisable if you're planning to spend time outdoors.\\n\\nKeep in mind that San Francisco's weather can change quickly due to its unique microclimate, so it's always a good idea to check for updates if you're planning activities based on the weather.\", response_metadata={'id': 'msg_01FfGpj92pi99SMLQQroj4JE', 'model': 'claude-3-5-sonnet-20240620', 'stop_reason': 'end_turn', 'stop_sequence': None, 'usage': {'input_tokens': 1169, 'output_tokens': 277}}, id='run-6ddbcd13-bdaa-45b5-9ce6-b06893ee9bdf-0', usage_metadata={'input_tokens': 1169, 'output_tokens': 277, 'total_tokens': 1446})]"
      ]
     },
     "execution_count": 21,
     "metadata": {},
     "output_type": "execute_result"
    }
   ],
   "source": [
    "response = agent_executor.invoke(\n",
    "    {\"messages\": [HumanMessage(content=\"whats the weather in sf?\")]}\n",
    ")\n",
    "response[\"messages\"]"
   ]
  },
  {
   "cell_type": "code",
   "execution_count": 22,
   "id": "18e49a07",
   "metadata": {},
   "outputs": [
    {
     "name": "stdout",
     "output_type": "stream",
     "text": [
      "{'agent': {'messages': [AIMessage(content=\"I apologize, but I don't have a specific tool available to check the current weather in San Francisco. However, I can use the search function to find recent weather information for you. Would you like me to do that?\", response_metadata={'id': 'msg_0174dCb6TLjS4HpCUwXW8D4A', 'model': 'claude-3-5-sonnet-20240620', 'stop_reason': 'end_turn', 'stop_sequence': None, 'usage': {'input_tokens': 404, 'output_tokens': 49}}, id='run-69b037a2-8d93-4e1e-990b-b5751d3c9e07-0', usage_metadata={'input_tokens': 404, 'output_tokens': 49, 'total_tokens': 453})]}}\n",
      "----\n"
     ]
    }
   ],
   "source": [
    "for chunk in agent_executor.stream(\n",
    "    {\"messages\": [HumanMessage(content=\"whats the weather in sf?\")]}\n",
    "):\n",
    "    print(chunk)\n",
    "    print(\"----\")"
   ]
  },
  {
   "cell_type": "code",
   "execution_count": 23,
   "id": "4e97b55d",
   "metadata": {},
   "outputs": [
    {
     "name": "stderr",
     "output_type": "stream",
     "text": [
      "/Users/madhushantan/anaconda3/lib/python3.11/site-packages/langchain_core/_api/beta_decorator.py:87: LangChainBetaWarning: This API is in beta and may change in the future.\n",
      "  warn_beta(\n"
     ]
    },
    {
     "name": "stdout",
     "output_type": "stream",
     "text": [
      "[{'text': 'I', 'type': 'text', 'index': 0}]|[{'text': ' apolog', 'type': 'text', 'index': 0}]|[{'text': 'ize, but I don', 'type': 'text', 'index': 0}]|[{'text': \"'t have a\", 'type': 'text', 'index': 0}]|[{'text': ' specific', 'type': 'text', 'index': 0}]|[{'text': ' weather tool', 'type': 'text', 'index': 0}]|[{'text': ' available', 'type': 'text', 'index': 0}]|[{'text': ' to provide', 'type': 'text', 'index': 0}]|[{'text': ' real', 'type': 'text', 'index': 0}]|[{'text': '-time weather information for', 'type': 'text', 'index': 0}]|[{'text': ' San Francisco. However', 'type': 'text', 'index': 0}]|[{'text': ', I', 'type': 'text', 'index': 0}]|[{'text': ' can use', 'type': 'text', 'index': 0}]|[{'text': ' the search function', 'type': 'text', 'index': 0}]|[{'text': ' to fin', 'type': 'text', 'index': 0}]|[{'text': 'd the', 'type': 'text', 'index': 0}]|[{'text': ' most', 'type': 'text', 'index': 0}]|[{'text': ' up-to-date', 'type': 'text', 'index': 0}]|[{'text': ' weather information', 'type': 'text', 'index': 0}]|[{'text': ' for you', 'type': 'text', 'index': 0}]|[{'text': '.', 'type': 'text', 'index': 0}]|[{'text': ' Let', 'type': 'text', 'index': 0}]|[{'text': ' me ', 'type': 'text', 'index': 0}]|[{'text': 'do that', 'type': 'text', 'index': 0}]|[{'text': ' now.', 'type': 'text', 'index': 0}]|[{'id': 'toolu_01P3fUBdr6Byv8HbSsXNKyGs', 'input': {}, 'name': 'tavily_search_results_json', 'type': 'tool_use', 'index': 1}]|[{'partial_json': '', 'type': 'tool_use', 'index': 1}]|[{'partial_json': '{\"query\": ', 'type': 'tool_use', 'index': 1}]|[{'partial_json': '\"cur', 'type': 'tool_use', 'index': 1}]|[{'partial_json': 'ren', 'type': 'tool_use', 'index': 1}]|[{'partial_json': 't weather in', 'type': 'tool_use', 'index': 1}]|[{'partial_json': ' San Franci', 'type': 'tool_use', 'index': 1}]|[{'partial_json': 'sco\"}', 'type': 'tool_use', 'index': 1}]|--\n",
      "Starting tool: tavily_search_results_json with inputs: {'query': 'current weather in San Francisco'}\n",
      "Done tool: tavily_search_results_json\n",
      "Tool output was: content='[{\"url\": \"https://www.weatherapi.com/\", \"content\": \"{\\'location\\': {\\'name\\': \\'San Francisco\\', \\'region\\': \\'California\\', \\'country\\': \\'United States of America\\', \\'lat\\': 37.78, \\'lon\\': -122.42, \\'tz_id\\': \\'America/Los_Angeles\\', \\'localtime_epoch\\': 1724790909, \\'localtime\\': \\'2024-08-27 13:35\\'}, \\'current\\': {\\'last_updated_epoch\\': 1724790600, \\'last_updated\\': \\'2024-08-27 13:30\\', \\'temp_c\\': 28.9, \\'temp_f\\': 84.0, \\'is_day\\': 1, \\'condition\\': {\\'text\\': \\'Sunny\\', \\'icon\\': \\'//cdn.weatherapi.com/weather/64x64/day/113.png\\', \\'code\\': 1000}, \\'wind_mph\\': 9.4, \\'wind_kph\\': 15.1, \\'wind_degree\\': 310, \\'wind_dir\\': \\'NW\\', \\'pressure_mb\\': 1015.0, \\'pressure_in\\': 29.97, \\'precip_mm\\': 0.01, \\'precip_in\\': 0.0, \\'humidity\\': 32, \\'cloud\\': 0, \\'feelslike_c\\': 30.7, \\'feelslike_f\\': 87.2, \\'windchill_c\\': 21.3, \\'windchill_f\\': 70.4, \\'heatindex_c\\': 23.3, \\'heatindex_f\\': 73.9, \\'dewpoint_c\\': 12.5, \\'dewpoint_f\\': 54.5, \\'vis_km\\': 16.0, \\'vis_miles\\': 9.0, \\'uv\\': 5.0, \\'gust_mph\\': 10.7, \\'gust_kph\\': 17.3}}\"}, {\"url\": \"https://forecast.weather.gov/MapClick.php?lat=37.781539&lon=-122.416571\", \"content\": \"Severe Weather over the High Plains; Monsoonal Thunderstorms Across the Four Corners; Heat in the South ... Current conditions at SAN FRANCISCO DOWNTOWN (SFOC1) Lat: 37.77056\\\\u00b0NLon: 122.42694\\\\u00b0WElev: 150.0ft. NA. 59\\\\u00b0F. 15\\\\u00b0C. Humidity: 100%: ... 8am PDT Aug 21, 2024-6pm PDT Aug 27, 2024 . Forecast Discussion . Additional Resources. Radar ...\"}]' name='tavily_search_results_json' tool_call_id='toolu_01P3fUBdr6Byv8HbSsXNKyGs' artifact={'query': 'current weather in San Francisco', 'follow_up_questions': None, 'answer': None, 'images': [], 'results': [{'title': 'Weather in San Francisco', 'url': 'https://www.weatherapi.com/', 'content': \"{'location': {'name': 'San Francisco', 'region': 'California', 'country': 'United States of America', 'lat': 37.78, 'lon': -122.42, 'tz_id': 'America/Los_Angeles', 'localtime_epoch': 1724790909, 'localtime': '2024-08-27 13:35'}, 'current': {'last_updated_epoch': 1724790600, 'last_updated': '2024-08-27 13:30', 'temp_c': 28.9, 'temp_f': 84.0, 'is_day': 1, 'condition': {'text': 'Sunny', 'icon': '//cdn.weatherapi.com/weather/64x64/day/113.png', 'code': 1000}, 'wind_mph': 9.4, 'wind_kph': 15.1, 'wind_degree': 310, 'wind_dir': 'NW', 'pressure_mb': 1015.0, 'pressure_in': 29.97, 'precip_mm': 0.01, 'precip_in': 0.0, 'humidity': 32, 'cloud': 0, 'feelslike_c': 30.7, 'feelslike_f': 87.2, 'windchill_c': 21.3, 'windchill_f': 70.4, 'heatindex_c': 23.3, 'heatindex_f': 73.9, 'dewpoint_c': 12.5, 'dewpoint_f': 54.5, 'vis_km': 16.0, 'vis_miles': 9.0, 'uv': 5.0, 'gust_mph': 10.7, 'gust_kph': 17.3}}\", 'score': 0.998198, 'raw_content': None}, {'title': 'National Weather Service', 'url': 'https://forecast.weather.gov/MapClick.php?lat=37.781539&lon=-122.416571', 'content': 'Severe Weather over the High Plains; Monsoonal Thunderstorms Across the Four Corners; Heat in the South ... Current conditions at SAN FRANCISCO DOWNTOWN (SFOC1) Lat: 37.77056°NLon: 122.42694°WElev: 150.0ft. NA. 59°F. 15°C. Humidity: 100%: ... 8am PDT Aug 21, 2024-6pm PDT Aug 27, 2024 . Forecast Discussion . Additional Resources. Radar ...', 'score': 0.9975561, 'raw_content': None}], 'response_time': 3.28}\n",
      "--\n",
      "[{'text': '\\n\\nBase', 'type': 'text', 'index': 0}]|[{'text': 'd on the search results,', 'type': 'text', 'index': 0}]|[{'text': ' I', 'type': 'text', 'index': 0}]|[{'text': ' can', 'type': 'text', 'index': 0}]|[{'text': ' provide', 'type': 'text', 'index': 0}]|[{'text': ' you', 'type': 'text', 'index': 0}]|[{'text': ' with the current weather information', 'type': 'text', 'index': 0}]|[{'text': ' for San Francisco.', 'type': 'text', 'index': 0}]|[{'text': ' Please', 'type': 'text', 'index': 0}]|[{'text': ' note', 'type': 'text', 'index': 0}]|[{'text': ' that the data', 'type': 'text', 'index': 0}]|[{'text': ' might', 'type': 'text', 'index': 0}]|[{'text': ' be from', 'type': 'text', 'index': 0}]|[{'text': ' a forecast', 'type': 'text', 'index': 0}]|[{'text': ',', 'type': 'text', 'index': 0}]|[{'text': ' so the', 'type': 'text', 'index': 0}]|[{'text': ' actual', 'type': 'text', 'index': 0}]|[{'text': ' current', 'type': 'text', 'index': 0}]|[{'text': ' conditions may', 'type': 'text', 'index': 0}]|[{'text': ' vary slightly', 'type': 'text', 'index': 0}]|[{'text': ':', 'type': 'text', 'index': 0}]|[{'text': '\\n\\nAs of August', 'type': 'text', 'index': 0}]|[{'text': ' 27,', 'type': 'text', 'index': 0}]|[{'text': ' 2024,', 'type': 'text', 'index': 0}]|[{'text': ' at', 'type': 'text', 'index': 0}]|[{'text': ' aroun', 'type': 'text', 'index': 0}]|[{'text': 'd 1:30 ', 'type': 'text', 'index': 0}]|[{'text': 'PM local', 'type': 'text', 'index': 0}]|[{'text': ' time:', 'type': 'text', 'index': 0}]|[{'text': '\\n- Temperature', 'type': 'text', 'index': 0}]|[{'text': ': 84', 'type': 'text', 'index': 0}]|[{'text': '.', 'type': 'text', 'index': 0}]|[{'text': '0°F (28', 'type': 'text', 'index': 0}]|[{'text': '.9°C)', 'type': 'text', 'index': 0}]|[{'text': '\\n- Condition', 'type': 'text', 'index': 0}]|[{'text': ': Sunny\\n-', 'type': 'text', 'index': 0}]|[{'text': ' Wind: 9.', 'type': 'text', 'index': 0}]|[{'text': '4 mph (15', 'type': 'text', 'index': 0}]|[{'text': '.1 km/', 'type': 'text', 'index': 0}]|[{'text': 'h),', 'type': 'text', 'index': 0}]|[{'text': ' direction', 'type': 'text', 'index': 0}]|[{'text': ' Northwest', 'type': 'text', 'index': 0}]|[{'text': '\\n- Humidity', 'type': 'text', 'index': 0}]|[{'text': ': 32%', 'type': 'text', 'index': 0}]|[{'text': '\\n- Feels', 'type': 'text', 'index': 0}]|[{'text': ' like', 'type': 'text', 'index': 0}]|[{'text': ': 87.2', 'type': 'text', 'index': 0}]|[{'text': '°F (30.', 'type': 'text', 'index': 0}]|[{'text': '7°C)', 'type': 'text', 'index': 0}]|[{'text': '\\n- UV', 'type': 'text', 'index': 0}]|[{'text': ' Index: 5.', 'type': 'text', 'index': 0}]|[{'text': '0 ', 'type': 'text', 'index': 0}]|[{'text': '(moderate to', 'type': 'text', 'index': 0}]|[{'text': ' high)', 'type': 'text', 'index': 0}]|[{'text': '\\n-', 'type': 'text', 'index': 0}]|[{'text': ' Visibility', 'type': 'text', 'index': 0}]|[{'text': ': 9.0', 'type': 'text', 'index': 0}]|[{'text': ' miles (16.', 'type': 'text', 'index': 0}]|[{'text': '0 km)', 'type': 'text', 'index': 0}]|[{'text': '\\n\\nIt', 'type': 'text', 'index': 0}]|[{'text': \"'s\", 'type': 'text', 'index': 0}]|[{'text': ' a warm', 'type': 'text', 'index': 0}]|[{'text': ' an', 'type': 'text', 'index': 0}]|[{'text': 'd sunny day in San Francisco', 'type': 'text', 'index': 0}]|[{'text': ' with clear', 'type': 'text', 'index': 0}]|[{'text': ' skies.', 'type': 'text', 'index': 0}]|[{'text': ' The', 'type': 'text', 'index': 0}]|[{'text': ' temperature', 'type': 'text', 'index': 0}]|[{'text': ' is quite', 'type': 'text', 'index': 0}]|[{'text': ' high', 'type': 'text', 'index': 0}]|[{'text': ' for', 'type': 'text', 'index': 0}]|[{'text': ' San', 'type': 'text', 'index': 0}]|[{'text': ' Francisco standards', 'type': 'text', 'index': 0}]|[{'text': ', so', 'type': 'text', 'index': 0}]|[{'text': ' it', 'type': 'text', 'index': 0}]|[{'text': ' woul', 'type': 'text', 'index': 0}]|[{'text': 'd be a', 'type': 'text', 'index': 0}]|[{'text': ' good idea to stay hy', 'type': 'text', 'index': 0}]|[{'text': 'drated and use', 'type': 'text', 'index': 0}]|[{'text': ' sun protection if', 'type': 'text', 'index': 0}]|[{'text': \" you're planning\", 'type': 'text', 'index': 0}]|[{'text': ' to be', 'type': 'text', 'index': 0}]|[{'text': ' outside.', 'type': 'text', 'index': 0}]|[{'text': '\\n\\nKeep', 'type': 'text', 'index': 0}]|[{'text': ' in mind that San', 'type': 'text', 'index': 0}]|[{'text': \" Francisco's\", 'type': 'text', 'index': 0}]|[{'text': ' weather can change quickly due', 'type': 'text', 'index': 0}]|[{'text': ' to its micro', 'type': 'text', 'index': 0}]|[{'text': 'climate, so it', 'type': 'text', 'index': 0}]|[{'text': \"'s always a good idea\", 'type': 'text', 'index': 0}]|[{'text': ' to be', 'type': 'text', 'index': 0}]|[{'text': ' prepared for temperature', 'type': 'text', 'index': 0}]|[{'text': ' fluctuations throughout', 'type': 'text', 'index': 0}]|[{'text': ' the day.', 'type': 'text', 'index': 0}]|"
     ]
    }
   ],
   "source": [
    "async for event in agent_executor.astream_events(\n",
    "    {\"messages\": [HumanMessage(content=\"whats the weather in sf?\")]}, version=\"v1\"\n",
    "):\n",
    "    kind = event[\"event\"]\n",
    "    if kind == \"on_chain_start\":\n",
    "        if (\n",
    "            event[\"name\"] == \"Agent\"\n",
    "        ):  # Was assigned when creating the agent with `.with_config({\"run_name\": \"Agent\"})`\n",
    "            print(\n",
    "                f\"Starting agent: {event['name']} with input: {event['data'].get('input')}\"\n",
    "            )\n",
    "    elif kind == \"on_chain_end\":\n",
    "        if (\n",
    "            event[\"name\"] == \"Agent\"\n",
    "        ):  # Was assigned when creating the agent with `.with_config({\"run_name\": \"Agent\"})`\n",
    "            print()\n",
    "            print(\"--\")\n",
    "            print(\n",
    "                f\"Done agent: {event['name']} with output: {event['data'].get('output')['output']}\"\n",
    "            )\n",
    "    if kind == \"on_chat_model_stream\":\n",
    "        content = event[\"data\"][\"chunk\"].content\n",
    "        if content:\n",
    "            # Empty content in the context of OpenAI means\n",
    "            # that the model is asking for a tool to be invoked.\n",
    "            # So we only print non-empty content\n",
    "            print(content, end=\"|\")\n",
    "    elif kind == \"on_tool_start\":\n",
    "        print(\"--\")\n",
    "        print(\n",
    "            f\"Starting tool: {event['name']} with inputs: {event['data'].get('input')}\"\n",
    "        )\n",
    "    elif kind == \"on_tool_end\":\n",
    "        print(f\"Done tool: {event['name']}\")\n",
    "        print(f\"Tool output was: {event['data'].get('output')}\")\n",
    "        print(\"--\")"
   ]
  },
  {
   "cell_type": "code",
   "execution_count": 24,
   "id": "90d1d963",
   "metadata": {},
   "outputs": [],
   "source": [
    "from langgraph.checkpoint.memory import MemorySaver\n",
    "\n",
    "memory = MemorySaver()"
   ]
  },
  {
   "cell_type": "code",
   "execution_count": 25,
   "id": "c197784a",
   "metadata": {},
   "outputs": [],
   "source": [
    "agent_executor = create_react_agent(model, tools, checkpointer=memory)\n",
    "\n",
    "config = {\"configurable\": {\"thread_id\": \"abc123\"}}"
   ]
  },
  {
   "cell_type": "code",
   "execution_count": 26,
   "id": "65b26e54",
   "metadata": {},
   "outputs": [
    {
     "name": "stdout",
     "output_type": "stream",
     "text": [
      "{'agent': {'messages': [AIMessage(content=\"Hello Bob! It's nice to meet you. How can I assist you today? Is there any particular information you're looking for or any questions you have?\", response_metadata={'id': 'msg_019CgQTsuJkEj8C3gYHqaxBw', 'model': 'claude-3-5-sonnet-20240620', 'stop_reason': 'end_turn', 'stop_sequence': None, 'usage': {'input_tokens': 401, 'output_tokens': 35}}, id='run-509348c2-8faf-452a-b125-60d423e62550-0', usage_metadata={'input_tokens': 401, 'output_tokens': 35, 'total_tokens': 436})]}}\n",
      "----\n"
     ]
    }
   ],
   "source": [
    "for chunk in agent_executor.stream(\n",
    "    {\"messages\": [HumanMessage(content=\"hi im bob!\")]}, config\n",
    "):\n",
    "    print(chunk)\n",
    "    print(\"----\")"
   ]
  },
  {
   "cell_type": "code",
   "execution_count": 27,
   "id": "122cb312",
   "metadata": {},
   "outputs": [
    {
     "name": "stdout",
     "output_type": "stream",
     "text": [
      "{'agent': {'messages': [AIMessage(content='Your name is Bob. You introduced yourself as \"Bob\" in your first message.', response_metadata={'id': 'msg_01FaxRvUHvnL6VXrBtzy6XPV', 'model': 'claude-3-5-sonnet-20240620', 'stop_reason': 'end_turn', 'stop_sequence': None, 'usage': {'input_tokens': 444, 'output_tokens': 20}}, id='run-6f4db26d-3213-4fa7-a98d-c32f030527fd-0', usage_metadata={'input_tokens': 444, 'output_tokens': 20, 'total_tokens': 464})]}}\n",
      "----\n"
     ]
    }
   ],
   "source": [
    "for chunk in agent_executor.stream(\n",
    "    {\"messages\": [HumanMessage(content=\"whats my name?\")]}, config\n",
    "):\n",
    "    print(chunk)\n",
    "    print(\"----\")"
   ]
  },
  {
   "cell_type": "code",
   "execution_count": 28,
   "id": "714c6b3c",
   "metadata": {},
   "outputs": [
    {
     "name": "stdout",
     "output_type": "stream",
     "text": [
      "{'agent': {'messages': [AIMessage(content=\"I apologize, but I don't have access to personal information about individual users, including names. As an AI assistant, I don't have any prior knowledge about you or your personal details. Is there something else I can help you with?\", response_metadata={'id': 'msg_01NQMD87MEBeAMdyeqeDskzB', 'model': 'claude-3-5-sonnet-20240620', 'stop_reason': 'end_turn', 'stop_sequence': None, 'usage': {'input_tokens': 402, 'output_tokens': 52}}, id='run-1db9a1f8-05ab-4ff9-8104-0eababaa89cd-0', usage_metadata={'input_tokens': 402, 'output_tokens': 52, 'total_tokens': 454})]}}\n",
      "----\n"
     ]
    }
   ],
   "source": [
    "config = {\"configurable\": {\"thread_id\": \"xyz123\"}}\n",
    "for chunk in agent_executor.stream(\n",
    "    {\"messages\": [HumanMessage(content=\"whats my name?\")]}, config\n",
    "):\n",
    "    print(chunk)\n",
    "    print(\"----\")"
   ]
  },
  {
   "cell_type": "code",
   "execution_count": null,
   "id": "0264500c",
   "metadata": {},
   "outputs": [],
   "source": []
  }
 ],
 "metadata": {
  "kernelspec": {
   "display_name": "Python 3 (ipykernel)",
   "language": "python",
   "name": "python3"
  },
  "language_info": {
   "codemirror_mode": {
    "name": "ipython",
    "version": 3
   },
   "file_extension": ".py",
   "mimetype": "text/x-python",
   "name": "python",
   "nbconvert_exporter": "python",
   "pygments_lexer": "ipython3",
   "version": "3.11.5"
  }
 },
 "nbformat": 4,
 "nbformat_minor": 5
}
