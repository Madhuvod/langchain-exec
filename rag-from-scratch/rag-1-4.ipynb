{
 "cells": [
  {
   "cell_type": "code",
   "execution_count": 8,
   "id": "add3c493",
   "metadata": {
    "scrolled": true
   },
   "outputs": [
    {
     "name": "stdout",
     "output_type": "stream",
     "text": [
      "Requirement already satisfied: langchain_community in /Users/madhushantan/anaconda3/lib/python3.11/site-packages (0.2.14)\r\n",
      "Requirement already satisfied: tiktoken in /Users/madhushantan/anaconda3/lib/python3.11/site-packages (0.7.0)\r\n",
      "Requirement already satisfied: langchain-openai in /Users/madhushantan/anaconda3/lib/python3.11/site-packages (0.1.22)\r\n",
      "Requirement already satisfied: langchainhub in /Users/madhushantan/anaconda3/lib/python3.11/site-packages (0.1.21)\r\n",
      "Requirement already satisfied: chromadb in /Users/madhushantan/anaconda3/lib/python3.11/site-packages (0.5.3)\r\n",
      "Requirement already satisfied: langchain in /Users/madhushantan/anaconda3/lib/python3.11/site-packages (0.2.15)\r\n",
      "Requirement already satisfied: PyYAML>=5.3 in /Users/madhushantan/anaconda3/lib/python3.11/site-packages (from langchain_community) (6.0)\r\n",
      "Requirement already satisfied: SQLAlchemy<3,>=1.4 in /Users/madhushantan/anaconda3/lib/python3.11/site-packages (from langchain_community) (2.0.28)\r\n",
      "Requirement already satisfied: aiohttp<4.0.0,>=3.8.3 in /Users/madhushantan/anaconda3/lib/python3.11/site-packages (from langchain_community) (3.8.5)\r\n",
      "Requirement already satisfied: dataclasses-json<0.7,>=0.5.7 in /Users/madhushantan/anaconda3/lib/python3.11/site-packages (from langchain_community) (0.6.7)\r\n",
      "Requirement already satisfied: langchain-core==0.2.36 in /Users/madhushantan/anaconda3/lib/python3.11/site-packages (from langchain_community) (0.2.36)\r\n",
      "Requirement already satisfied: langsmith<0.2.0,>=0.1.0 in /Users/madhushantan/anaconda3/lib/python3.11/site-packages (from langchain_community) (0.1.104)\r\n",
      "Requirement already satisfied: numpy<2,>=1 in /Users/madhushantan/anaconda3/lib/python3.11/site-packages (from langchain_community) (1.24.3)\r\n",
      "Requirement already satisfied: requests<3,>=2 in /Users/madhushantan/anaconda3/lib/python3.11/site-packages (from langchain_community) (2.31.0)\r\n",
      "Requirement already satisfied: tenacity!=8.4.0,<9.0.0,>=8.1.0 in /Users/madhushantan/anaconda3/lib/python3.11/site-packages (from langchain_community) (8.5.0)\r\n",
      "Requirement already satisfied: jsonpatch<2.0,>=1.33 in /Users/madhushantan/anaconda3/lib/python3.11/site-packages (from langchain-core==0.2.36->langchain_community) (1.33)\r\n",
      "Requirement already satisfied: packaging<25,>=23.2 in /Users/madhushantan/anaconda3/lib/python3.11/site-packages (from langchain-core==0.2.36->langchain_community) (24.1)\r\n",
      "Requirement already satisfied: pydantic<3,>=1 in /Users/madhushantan/anaconda3/lib/python3.11/site-packages (from langchain-core==0.2.36->langchain_community) (2.7.2)\r\n",
      "Requirement already satisfied: typing-extensions>=4.7 in /Users/madhushantan/anaconda3/lib/python3.11/site-packages (from langchain-core==0.2.36->langchain_community) (4.12.2)\r\n",
      "Requirement already satisfied: regex>=2022.1.18 in /Users/madhushantan/anaconda3/lib/python3.11/site-packages (from tiktoken) (2022.7.9)\r\n",
      "Requirement already satisfied: openai<2.0.0,>=1.40.0 in /Users/madhushantan/anaconda3/lib/python3.11/site-packages (from langchain-openai) (1.42.0)\r\n",
      "Requirement already satisfied: types-requests<3.0.0.0,>=2.31.0.2 in /Users/madhushantan/anaconda3/lib/python3.11/site-packages (from langchainhub) (2.32.0.20240712)\r\n",
      "Requirement already satisfied: build>=1.0.3 in /Users/madhushantan/anaconda3/lib/python3.11/site-packages (from chromadb) (1.2.1)\r\n",
      "Requirement already satisfied: chroma-hnswlib==0.7.3 in /Users/madhushantan/anaconda3/lib/python3.11/site-packages (from chromadb) (0.7.3)\r\n",
      "Requirement already satisfied: fastapi>=0.95.2 in /Users/madhushantan/anaconda3/lib/python3.11/site-packages (from chromadb) (0.110.3)\r\n",
      "Requirement already satisfied: uvicorn>=0.18.3 in /Users/madhushantan/anaconda3/lib/python3.11/site-packages (from uvicorn[standard]>=0.18.3->chromadb) (0.27.1)\r\n",
      "Requirement already satisfied: posthog>=2.4.0 in /Users/madhushantan/anaconda3/lib/python3.11/site-packages (from chromadb) (3.5.2)\r\n",
      "Requirement already satisfied: onnxruntime>=1.14.1 in /Users/madhushantan/anaconda3/lib/python3.11/site-packages (from chromadb) (1.19.0)\r\n",
      "Requirement already satisfied: opentelemetry-api>=1.2.0 in /Users/madhushantan/anaconda3/lib/python3.11/site-packages (from chromadb) (1.26.0)\r\n",
      "Requirement already satisfied: opentelemetry-exporter-otlp-proto-grpc>=1.2.0 in /Users/madhushantan/anaconda3/lib/python3.11/site-packages (from chromadb) (1.26.0)\r\n",
      "Requirement already satisfied: opentelemetry-instrumentation-fastapi>=0.41b0 in /Users/madhushantan/anaconda3/lib/python3.11/site-packages (from chromadb) (0.47b0)\r\n",
      "Requirement already satisfied: opentelemetry-sdk>=1.2.0 in /Users/madhushantan/anaconda3/lib/python3.11/site-packages (from chromadb) (1.26.0)\r\n",
      "Requirement already satisfied: tokenizers>=0.13.2 in /Users/madhushantan/anaconda3/lib/python3.11/site-packages (from chromadb) (0.13.2)\r\n",
      "Requirement already satisfied: pypika>=0.48.9 in /Users/madhushantan/anaconda3/lib/python3.11/site-packages (from chromadb) (0.48.9)\r\n",
      "Requirement already satisfied: tqdm>=4.65.0 in /Users/madhushantan/anaconda3/lib/python3.11/site-packages (from chromadb) (4.65.0)\r\n",
      "Requirement already satisfied: overrides>=7.3.1 in /Users/madhushantan/anaconda3/lib/python3.11/site-packages (from chromadb) (7.7.0)\r\n",
      "Requirement already satisfied: importlib-resources in /Users/madhushantan/anaconda3/lib/python3.11/site-packages (from chromadb) (6.1.1)\r\n",
      "Requirement already satisfied: grpcio>=1.58.0 in /Users/madhushantan/anaconda3/lib/python3.11/site-packages (from chromadb) (1.62.0)\r\n",
      "Requirement already satisfied: bcrypt>=4.0.1 in /Users/madhushantan/anaconda3/lib/python3.11/site-packages (from chromadb) (4.2.0)\r\n",
      "Requirement already satisfied: typer>=0.9.0 in /Users/madhushantan/anaconda3/lib/python3.11/site-packages (from chromadb) (0.12.3)\r\n",
      "Requirement already satisfied: kubernetes>=28.1.0 in /Users/madhushantan/anaconda3/lib/python3.11/site-packages (from chromadb) (30.1.0)\r\n",
      "Requirement already satisfied: mmh3>=4.0.1 in /Users/madhushantan/anaconda3/lib/python3.11/site-packages (from chromadb) (4.1.0)\r\n",
      "Requirement already satisfied: orjson>=3.9.12 in /Users/madhushantan/anaconda3/lib/python3.11/site-packages (from chromadb) (3.10.3)\r\n",
      "Requirement already satisfied: httpx>=0.27.0 in /Users/madhushantan/anaconda3/lib/python3.11/site-packages (from chromadb) (0.27.0)\r\n",
      "Requirement already satisfied: langchain-text-splitters<0.3.0,>=0.2.0 in /Users/madhushantan/anaconda3/lib/python3.11/site-packages (from langchain) (0.2.2)\r\n",
      "Requirement already satisfied: attrs>=17.3.0 in /Users/madhushantan/anaconda3/lib/python3.11/site-packages (from aiohttp<4.0.0,>=3.8.3->langchain_community) (22.1.0)\r\n",
      "Requirement already satisfied: charset-normalizer<4.0,>=2.0 in /Users/madhushantan/anaconda3/lib/python3.11/site-packages (from aiohttp<4.0.0,>=3.8.3->langchain_community) (2.0.4)\r\n",
      "Requirement already satisfied: multidict<7.0,>=4.5 in /Users/madhushantan/anaconda3/lib/python3.11/site-packages (from aiohttp<4.0.0,>=3.8.3->langchain_community) (6.0.2)\r\n",
      "Requirement already satisfied: async-timeout<5.0,>=4.0.0a3 in /Users/madhushantan/anaconda3/lib/python3.11/site-packages (from aiohttp<4.0.0,>=3.8.3->langchain_community) (4.0.2)\r\n",
      "Requirement already satisfied: yarl<2.0,>=1.0 in /Users/madhushantan/anaconda3/lib/python3.11/site-packages (from aiohttp<4.0.0,>=3.8.3->langchain_community) (1.8.1)\r\n",
      "Requirement already satisfied: frozenlist>=1.1.1 in /Users/madhushantan/anaconda3/lib/python3.11/site-packages (from aiohttp<4.0.0,>=3.8.3->langchain_community) (1.3.3)\r\n",
      "Requirement already satisfied: aiosignal>=1.1.2 in /Users/madhushantan/anaconda3/lib/python3.11/site-packages (from aiohttp<4.0.0,>=3.8.3->langchain_community) (1.2.0)\r\n",
      "Requirement already satisfied: pyproject_hooks in /Users/madhushantan/anaconda3/lib/python3.11/site-packages (from build>=1.0.3->chromadb) (1.1.0)\r\n",
      "Requirement already satisfied: marshmallow<4.0.0,>=3.18.0 in /Users/madhushantan/anaconda3/lib/python3.11/site-packages (from dataclasses-json<0.7,>=0.5.7->langchain_community) (3.22.0)\r\n",
      "Requirement already satisfied: typing-inspect<1,>=0.4.0 in /Users/madhushantan/anaconda3/lib/python3.11/site-packages (from dataclasses-json<0.7,>=0.5.7->langchain_community) (0.9.0)\r\n",
      "Requirement already satisfied: starlette<0.38.0,>=0.37.2 in /Users/madhushantan/anaconda3/lib/python3.11/site-packages (from fastapi>=0.95.2->chromadb) (0.37.2)\r\n"
     ]
    },
    {
     "name": "stdout",
     "output_type": "stream",
     "text": [
      "Requirement already satisfied: anyio in /Users/madhushantan/anaconda3/lib/python3.11/site-packages (from httpx>=0.27.0->chromadb) (3.5.0)\n",
      "Requirement already satisfied: certifi in /Users/madhushantan/anaconda3/lib/python3.11/site-packages (from httpx>=0.27.0->chromadb) (2024.2.2)\n",
      "Requirement already satisfied: httpcore==1.* in /Users/madhushantan/anaconda3/lib/python3.11/site-packages (from httpx>=0.27.0->chromadb) (1.0.4)\n",
      "Requirement already satisfied: idna in /Users/madhushantan/anaconda3/lib/python3.11/site-packages (from httpx>=0.27.0->chromadb) (3.6)\n",
      "Requirement already satisfied: sniffio in /Users/madhushantan/anaconda3/lib/python3.11/site-packages (from httpx>=0.27.0->chromadb) (1.2.0)\n",
      "Requirement already satisfied: h11<0.15,>=0.13 in /Users/madhushantan/anaconda3/lib/python3.11/site-packages (from httpcore==1.*->httpx>=0.27.0->chromadb) (0.14.0)\n",
      "Requirement already satisfied: six>=1.9.0 in /Users/madhushantan/anaconda3/lib/python3.11/site-packages (from kubernetes>=28.1.0->chromadb) (1.16.0)\n",
      "Requirement already satisfied: python-dateutil>=2.5.3 in /Users/madhushantan/anaconda3/lib/python3.11/site-packages (from kubernetes>=28.1.0->chromadb) (2.8.2)\n",
      "Requirement already satisfied: google-auth>=1.0.1 in /Users/madhushantan/anaconda3/lib/python3.11/site-packages (from kubernetes>=28.1.0->chromadb) (2.34.0)\n",
      "Requirement already satisfied: websocket-client!=0.40.0,!=0.41.*,!=0.42.*,>=0.32.0 in /Users/madhushantan/anaconda3/lib/python3.11/site-packages (from kubernetes>=28.1.0->chromadb) (0.58.0)\n",
      "Requirement already satisfied: requests-oauthlib in /Users/madhushantan/anaconda3/lib/python3.11/site-packages (from kubernetes>=28.1.0->chromadb) (2.0.0)\n",
      "Requirement already satisfied: oauthlib>=3.2.2 in /Users/madhushantan/anaconda3/lib/python3.11/site-packages (from kubernetes>=28.1.0->chromadb) (3.2.2)\n",
      "Requirement already satisfied: urllib3>=1.24.2 in /Users/madhushantan/anaconda3/lib/python3.11/site-packages (from kubernetes>=28.1.0->chromadb) (2.2.1)\n",
      "Requirement already satisfied: coloredlogs in /Users/madhushantan/anaconda3/lib/python3.11/site-packages (from onnxruntime>=1.14.1->chromadb) (15.0.1)\n",
      "Requirement already satisfied: flatbuffers in /Users/madhushantan/anaconda3/lib/python3.11/site-packages (from onnxruntime>=1.14.1->chromadb) (24.3.7)\n",
      "Requirement already satisfied: protobuf in /Users/madhushantan/anaconda3/lib/python3.11/site-packages (from onnxruntime>=1.14.1->chromadb) (4.25.3)\n",
      "Requirement already satisfied: sympy in /Users/madhushantan/anaconda3/lib/python3.11/site-packages (from onnxruntime>=1.14.1->chromadb) (1.11.1)\n",
      "Requirement already satisfied: distro<2,>=1.7.0 in /Users/madhushantan/anaconda3/lib/python3.11/site-packages (from openai<2.0.0,>=1.40.0->langchain-openai) (1.9.0)\n",
      "Requirement already satisfied: jiter<1,>=0.4.0 in /Users/madhushantan/anaconda3/lib/python3.11/site-packages (from openai<2.0.0,>=1.40.0->langchain-openai) (0.5.0)\n",
      "Requirement already satisfied: deprecated>=1.2.6 in /Users/madhushantan/anaconda3/lib/python3.11/site-packages (from opentelemetry-api>=1.2.0->chromadb) (1.2.14)\n",
      "Requirement already satisfied: importlib-metadata<=8.0.0,>=6.0 in /Users/madhushantan/anaconda3/lib/python3.11/site-packages (from opentelemetry-api>=1.2.0->chromadb) (7.0.1)\n",
      "Requirement already satisfied: googleapis-common-protos~=1.52 in /Users/madhushantan/anaconda3/lib/python3.11/site-packages (from opentelemetry-exporter-otlp-proto-grpc>=1.2.0->chromadb) (1.63.2)\n",
      "Requirement already satisfied: opentelemetry-exporter-otlp-proto-common==1.26.0 in /Users/madhushantan/anaconda3/lib/python3.11/site-packages (from opentelemetry-exporter-otlp-proto-grpc>=1.2.0->chromadb) (1.26.0)\n",
      "Requirement already satisfied: opentelemetry-proto==1.26.0 in /Users/madhushantan/anaconda3/lib/python3.11/site-packages (from opentelemetry-exporter-otlp-proto-grpc>=1.2.0->chromadb) (1.26.0)\n",
      "Requirement already satisfied: opentelemetry-instrumentation-asgi==0.47b0 in /Users/madhushantan/anaconda3/lib/python3.11/site-packages (from opentelemetry-instrumentation-fastapi>=0.41b0->chromadb) (0.47b0)\n",
      "Requirement already satisfied: opentelemetry-instrumentation==0.47b0 in /Users/madhushantan/anaconda3/lib/python3.11/site-packages (from opentelemetry-instrumentation-fastapi>=0.41b0->chromadb) (0.47b0)\n",
      "Requirement already satisfied: opentelemetry-semantic-conventions==0.47b0 in /Users/madhushantan/anaconda3/lib/python3.11/site-packages (from opentelemetry-instrumentation-fastapi>=0.41b0->chromadb) (0.47b0)\n",
      "Requirement already satisfied: opentelemetry-util-http==0.47b0 in /Users/madhushantan/anaconda3/lib/python3.11/site-packages (from opentelemetry-instrumentation-fastapi>=0.41b0->chromadb) (0.47b0)\n",
      "Requirement already satisfied: setuptools>=16.0 in /Users/madhushantan/anaconda3/lib/python3.11/site-packages (from opentelemetry-instrumentation==0.47b0->opentelemetry-instrumentation-fastapi>=0.41b0->chromadb) (69.5.1)\n",
      "Requirement already satisfied: wrapt<2.0.0,>=1.0.0 in /Users/madhushantan/anaconda3/lib/python3.11/site-packages (from opentelemetry-instrumentation==0.47b0->opentelemetry-instrumentation-fastapi>=0.41b0->chromadb) (1.14.1)\n",
      "Requirement already satisfied: asgiref~=3.0 in /Users/madhushantan/anaconda3/lib/python3.11/site-packages (from opentelemetry-instrumentation-asgi==0.47b0->opentelemetry-instrumentation-fastapi>=0.41b0->chromadb) (3.8.1)\n",
      "Requirement already satisfied: monotonic>=1.5 in /Users/madhushantan/anaconda3/lib/python3.11/site-packages (from posthog>=2.4.0->chromadb) (1.6)\n",
      "Requirement already satisfied: backoff>=1.10.0 in /Users/madhushantan/anaconda3/lib/python3.11/site-packages (from posthog>=2.4.0->chromadb) (2.2.1)\n",
      "Requirement already satisfied: annotated-types>=0.4.0 in /Users/madhushantan/anaconda3/lib/python3.11/site-packages (from pydantic<3,>=1->langchain-core==0.2.36->langchain_community) (0.6.0)\n",
      "Requirement already satisfied: pydantic-core==2.18.3 in /Users/madhushantan/anaconda3/lib/python3.11/site-packages (from pydantic<3,>=1->langchain-core==0.2.36->langchain_community) (2.18.3)\n",
      "Requirement already satisfied: click>=8.0.0 in /Users/madhushantan/anaconda3/lib/python3.11/site-packages (from typer>=0.9.0->chromadb) (8.1.7)\n",
      "Requirement already satisfied: shellingham>=1.3.0 in /Users/madhushantan/anaconda3/lib/python3.11/site-packages (from typer>=0.9.0->chromadb) (1.5.4)\n",
      "Requirement already satisfied: rich>=10.11.0 in /Users/madhushantan/anaconda3/lib/python3.11/site-packages (from typer>=0.9.0->chromadb) (13.7.0)\n",
      "Requirement already satisfied: httptools>=0.5.0 in /Users/madhushantan/anaconda3/lib/python3.11/site-packages (from uvicorn[standard]>=0.18.3->chromadb) (0.6.1)\n",
      "Requirement already satisfied: python-dotenv>=0.13 in /Users/madhushantan/anaconda3/lib/python3.11/site-packages (from uvicorn[standard]>=0.18.3->chromadb) (0.21.0)\n",
      "Requirement already satisfied: uvloop!=0.15.0,!=0.15.1,>=0.14.0 in /Users/madhushantan/anaconda3/lib/python3.11/site-packages (from uvicorn[standard]>=0.18.3->chromadb) (0.19.0)\n",
      "Requirement already satisfied: watchfiles>=0.13 in /Users/madhushantan/anaconda3/lib/python3.11/site-packages (from uvicorn[standard]>=0.18.3->chromadb) (0.22.0)\n",
      "Requirement already satisfied: websockets>=10.4 in /Users/madhushantan/anaconda3/lib/python3.11/site-packages (from uvicorn[standard]>=0.18.3->chromadb) (11.0.3)\n",
      "Requirement already satisfied: cachetools<6.0,>=2.0.0 in /Users/madhushantan/anaconda3/lib/python3.11/site-packages (from google-auth>=1.0.1->kubernetes>=28.1.0->chromadb) (5.3.3)\n",
      "Requirement already satisfied: pyasn1-modules>=0.2.1 in /Users/madhushantan/anaconda3/lib/python3.11/site-packages (from google-auth>=1.0.1->kubernetes>=28.1.0->chromadb) (0.2.8)\n",
      "Requirement already satisfied: rsa<5,>=3.1.4 in /Users/madhushantan/anaconda3/lib/python3.11/site-packages (from google-auth>=1.0.1->kubernetes>=28.1.0->chromadb) (4.7.2)\n",
      "Requirement already satisfied: zipp>=0.5 in /Users/madhushantan/anaconda3/lib/python3.11/site-packages (from importlib-metadata<=8.0.0,>=6.0->opentelemetry-api>=1.2.0->chromadb) (3.11.0)\n",
      "Requirement already satisfied: jsonpointer>=1.9 in /Users/madhushantan/anaconda3/lib/python3.11/site-packages (from jsonpatch<2.0,>=1.33->langchain-core==0.2.36->langchain_community) (2.1)\n",
      "Requirement already satisfied: markdown-it-py>=2.2.0 in /Users/madhushantan/anaconda3/lib/python3.11/site-packages (from rich>=10.11.0->typer>=0.9.0->chromadb) (2.2.0)\n",
      "Requirement already satisfied: pygments<3.0.0,>=2.13.0 in /Users/madhushantan/anaconda3/lib/python3.11/site-packages (from rich>=10.11.0->typer>=0.9.0->chromadb) (2.15.1)\n",
      "Requirement already satisfied: mypy-extensions>=0.3.0 in /Users/madhushantan/anaconda3/lib/python3.11/site-packages (from typing-inspect<1,>=0.4.0->dataclasses-json<0.7,>=0.5.7->langchain_community) (1.0.0)\n"
     ]
    },
    {
     "name": "stdout",
     "output_type": "stream",
     "text": [
      "Requirement already satisfied: humanfriendly>=9.1 in /Users/madhushantan/anaconda3/lib/python3.11/site-packages (from coloredlogs->onnxruntime>=1.14.1->chromadb) (10.0)\n",
      "Requirement already satisfied: mpmath>=0.19 in /Users/madhushantan/anaconda3/lib/python3.11/site-packages (from sympy->onnxruntime>=1.14.1->chromadb) (1.3.0)\n",
      "Requirement already satisfied: mdurl~=0.1 in /Users/madhushantan/anaconda3/lib/python3.11/site-packages (from markdown-it-py>=2.2.0->rich>=10.11.0->typer>=0.9.0->chromadb) (0.1.0)\n",
      "Requirement already satisfied: pyasn1<0.5.0,>=0.4.6 in /Users/madhushantan/anaconda3/lib/python3.11/site-packages (from pyasn1-modules>=0.2.1->google-auth>=1.0.1->kubernetes>=28.1.0->chromadb) (0.4.8)\n",
      "Note: you may need to restart the kernel to use updated packages.\n"
     ]
    }
   ],
   "source": [
    "pip install langchain_community tiktoken langchain-openai langchainhub chromadb langchain"
   ]
  },
  {
   "cell_type": "code",
   "execution_count": 3,
   "id": "b03a85bb",
   "metadata": {},
   "outputs": [
    {
     "name": "stdout",
     "output_type": "stream",
     "text": [
      "Langchain's API Key: ········\n",
      "OpenAI's API Key: ········\n"
     ]
    }
   ],
   "source": [
    "import os\n",
    "import getpass\n",
    "\n",
    "os.environ[\"LANGCHAIN_API_KEY\"] = getpass.getpass(\"Langchain's API Key: \")\n",
    "os.environ[\"OPENAI_API_KEY\"] = getpass.getpass(\"OpenAI's API Key: \")\n",
    "os.environ[\"LANGCHAIN_TRACING_V2\"] = \"true\"\n",
    "os.environ[\"LANGCHAIN_ENDPOINT\"] = 'https://api.smith.langchain.com'"
   ]
  },
  {
   "cell_type": "code",
   "execution_count": 21,
   "id": "d07dd091",
   "metadata": {
    "scrolled": true
   },
   "outputs": [
    {
     "data": {
      "text/plain": [
       "'The different types of memory are Short-Term Memory (STM) or Working Memory, which stores information needed for complex cognitive tasks and has a limited capacity and duration. Long-Term Memory (LTM) can store information for a long time and has two subtypes: Explicit / declarative memory for facts and events, and Implicit / procedural memory for skills and routines.'"
      ]
     },
     "execution_count": 21,
     "metadata": {},
     "output_type": "execute_result"
    }
   ],
   "source": [
    "import bs4\n",
    "from langchain import hub\n",
    "from langchain.text_splitter import RecursiveCharacterTextSplitter\n",
    "from langchain_community.document_loaders import WebBaseLoader\n",
    "from langchain_community.vectorstores import Chroma\n",
    "from langchain_core.output_parsers import StrOutputParser\n",
    "from langchain_core.runnables import RunnablePassthrough\n",
    "from langchain_openai import OpenAIEmbeddings, ChatOpenAI\n",
    "\n",
    "#INDEXING\n",
    "\n",
    "#loading docs\n",
    "loader = WebBaseLoader(web_path = (\"https://lilianweng.github.io/posts/2023-06-23-agent/\"),\n",
    "                       bs_kwargs = dict(\n",
    "                       parse_only = bs4.SoupStrainer(\n",
    "                       class_ = (\"post-content\", \"post-title\", \"post-header\"))),)\n",
    "docs = loader.load()\n",
    "\n",
    "#split\n",
    "text_splitter = RecursiveCharacterTextSplitter(chunk_size = 1000, chunk_overlap = 200)\n",
    "splits = text_splitter.split_documents(docs)\n",
    "\n",
    "#embed\n",
    "vectorstore = Chroma.from_documents(documents=splits,\n",
    "                                   embedding=OpenAIEmbeddings())\n",
    "retriever = vectorstore.as_retriever()\n",
    "\n",
    "#Retrieval and Generation\n",
    "\n",
    "prompt = hub.pull(\"rlm/rag-prompt\")\n",
    "\n",
    "llm = ChatOpenAI(model_name=\"gpt-3.5-turbo\", temperature = 0)\n",
    "\n",
    "def format_docs(docs):\n",
    "    return \"\\n\\n\".join(doc.page_content for doc in docs)\n",
    "\n",
    "rag_chain = ({\"context\" : retriever | format_docs, \"question\" : RunnablePassthrough() }\n",
    "            | prompt\n",
    "            | llm\n",
    "            | StrOutputParser()\n",
    "            )\n",
    "rag_chain.invoke(\"What are the different types of memory? explain them\")\n"
   ]
  },
  {
   "cell_type": "code",
   "execution_count": 43,
   "id": "4b69fb21",
   "metadata": {},
   "outputs": [],
   "source": [
    "#INDEXING - LOADING, SPLITTING, EMBEDDING\n",
    "\n",
    "question = \"What is your favourite superintelligence led company?\"\n",
    "document = \"My favourite superintelligence led company is Anthropic\""
   ]
  },
  {
   "cell_type": "code",
   "execution_count": 44,
   "id": "64702432",
   "metadata": {},
   "outputs": [
    {
     "data": {
      "text/plain": [
       "9"
      ]
     },
     "execution_count": 44,
     "metadata": {},
     "output_type": "execute_result"
    }
   ],
   "source": [
    "import tiktoken\n",
    "\n",
    "def num_tokens_from_string(string : str, encoding_name: str) -> int:\n",
    "    encoder = tiktoken.get_encoding(encoding_name)\n",
    "    num_tokens = len(encoder.encode(string))\n",
    "    return num_tokens\n",
    "num_tokens_from_string(question, \"cl100k_base\")"
   ]
  },
  {
   "cell_type": "code",
   "execution_count": 45,
   "id": "afa217d4",
   "metadata": {},
   "outputs": [
    {
     "data": {
      "text/plain": [
       "1536"
      ]
     },
     "execution_count": 45,
     "metadata": {},
     "output_type": "execute_result"
    }
   ],
   "source": [
    "from langchain_openai import OpenAIEmbeddings\n",
    "embd = OpenAIEmbeddings()\n",
    "query_result = embd.embed_query(question)\n",
    "document_result = embd.embed_query(document)\n",
    "len(query_result)"
   ]
  },
  {
   "cell_type": "code",
   "execution_count": 46,
   "id": "546a3248",
   "metadata": {},
   "outputs": [
    {
     "data": {
      "text/plain": [
       "0.9290051854582994"
      ]
     },
     "execution_count": 46,
     "metadata": {},
     "output_type": "execute_result"
    }
   ],
   "source": [
    "#cosine similarity\n",
    "\n",
    "import numpy as np\n",
    "\n",
    "def cosine_similarity(vec1, vec2):\n",
    "    dot_product = np.dot(vec1, vec2)\n",
    "    norm_vec1 = np.linalg.norm(vec1)\n",
    "    norm_vec2 = np.linalg.norm(vec2)\n",
    "    return dot_product / (norm_vec1 * norm_vec2)\n",
    "similarity = cosine_similarity(query_result, document_result)\n",
    "similarity"
   ]
  },
  {
   "cell_type": "code",
   "execution_count": 56,
   "id": "1f38d60b",
   "metadata": {},
   "outputs": [],
   "source": [
    "# since the cosine similarity is 0.929, it just means it has high similarity\n",
    "\n",
    "#loading\n",
    "import bs4\n",
    "from langchain_community.document_loaders import WebBaseLoader\n",
    "loader = WebBaseLoader(web_path = (\"https://lilianweng.github.io/posts/2023-06-23-agent/\"),\n",
    "                      bs_kwargs = dict(\n",
    "                      parse_only = bs4.SoupStrainer(\n",
    "                      class_ = (\"post-content\", \"post-title\", \"post-header\"))),)\n",
    "blog_docs = loader.load()\n"
   ]
  },
  {
   "cell_type": "code",
   "execution_count": 57,
   "id": "ff77601b",
   "metadata": {},
   "outputs": [],
   "source": [
    "from langchain.text_splitter import RecursiveCharacterTextSplitter\n",
    "text_splitter = RecursiveCharacterTextSplitter.from_tiktoken_encoder(chunk_size = 300, chunk_overlap = 50)\n",
    "splitter = text_splitter.split_documents(blog_docs)"
   ]
  },
  {
   "cell_type": "code",
   "execution_count": 58,
   "id": "38808ac5",
   "metadata": {},
   "outputs": [
    {
     "data": {
      "text/plain": [
       "1"
      ]
     },
     "execution_count": 58,
     "metadata": {},
     "output_type": "execute_result"
    }
   ],
   "source": [
    "from langchain_openai import OpenAIEmbeddings\n",
    "from langchain_community.vectorstores import Chroma\n",
    "vectorstore = Chroma.from_documents(documents=splits, \n",
    "                                    embedding=OpenAIEmbeddings())\n",
    "\n",
    "retriever = vectorstore.as_retriever(search_kwargs={\"k\": 1})\n",
    "docs = retriever.get_relevant_documents(\"What is Task Decomposition?\")\n",
    "len(docs)"
   ]
  },
  {
   "cell_type": "code",
   "execution_count": 51,
   "id": "07032ca2",
   "metadata": {},
   "outputs": [
    {
     "data": {
      "text/plain": [
       "ChatPromptTemplate(input_variables=['context', 'question'], messages=[HumanMessagePromptTemplate(prompt=PromptTemplate(input_variables=['context', 'question'], template='Answer the question based only on the following context:\\n{context}\\n\\nQuestion: {question}\\n'))])"
      ]
     },
     "execution_count": 51,
     "metadata": {},
     "output_type": "execute_result"
    }
   ],
   "source": [
    "from langchain_openai import ChatOpenAI\n",
    "from langchain.prompts import ChatPromptTemplate\n",
    "\n",
    "# Prompt\n",
    "template = \"\"\"Answer the question based only on the following context:\n",
    "{context}\n",
    "\n",
    "Question: {question}\n",
    "\"\"\"\n",
    "\n",
    "prompt = ChatPromptTemplate.from_template(template)\n",
    "prompt"
   ]
  },
  {
   "cell_type": "code",
   "execution_count": 59,
   "id": "cd40e633",
   "metadata": {},
   "outputs": [
    {
     "data": {
      "text/plain": [
       "AIMessage(content='Task Decomposition is a technique that involves breaking down complex tasks into smaller and simpler steps in order to enhance model performance on those tasks.', additional_kwargs={'refusal': None}, response_metadata={'token_usage': {'completion_tokens': 27, 'prompt_tokens': 182, 'total_tokens': 209}, 'model_name': 'gpt-3.5-turbo-0125', 'system_fingerprint': None, 'finish_reason': 'stop', 'logprobs': None}, id='run-12ee699b-34e4-4816-b568-48aa472f3db9-0', usage_metadata={'input_tokens': 182, 'output_tokens': 27, 'total_tokens': 209})"
      ]
     },
     "execution_count": 59,
     "metadata": {},
     "output_type": "execute_result"
    }
   ],
   "source": [
    "llm = ChatOpenAI(model_name = \"gpt-3.5-turbo\", temperature = 0)\n",
    "chain = prompt | llm\n",
    "chain.invoke({\"context\": docs, \"question\": \"What is Task Decomposition?\"})\n"
   ]
  },
  {
   "cell_type": "code",
   "execution_count": 60,
   "id": "47273901",
   "metadata": {},
   "outputs": [],
   "source": [
    "from langchain import hub\n",
    "prompt_hub_rag = hub.pull(\"rlm/rag-prompt\")"
   ]
  },
  {
   "cell_type": "code",
   "execution_count": 61,
   "id": "6c788a88",
   "metadata": {},
   "outputs": [
    {
     "data": {
      "text/plain": [
       "ChatPromptTemplate(input_variables=['context', 'question'], metadata={'lc_hub_owner': 'rlm', 'lc_hub_repo': 'rag-prompt', 'lc_hub_commit_hash': '50442af133e61576e74536c6556cefe1fac147cad032f4377b60c436e6cdcb6e'}, messages=[HumanMessagePromptTemplate(prompt=PromptTemplate(input_variables=['context', 'question'], template=\"You are an assistant for question-answering tasks. Use the following pieces of retrieved context to answer the question. If you don't know the answer, just say that you don't know. Use three sentences maximum and keep the answer concise.\\nQuestion: {question} \\nContext: {context} \\nAnswer:\"))])"
      ]
     },
     "execution_count": 61,
     "metadata": {},
     "output_type": "execute_result"
    }
   ],
   "source": [
    "prompt_hub_rag"
   ]
  },
  {
   "cell_type": "code",
   "execution_count": 62,
   "id": "95c649ed",
   "metadata": {},
   "outputs": [
    {
     "data": {
      "text/plain": [
       "\"Task Decomposition is a technique that involves breaking down a complex task into smaller and simpler steps in order to enhance model performance on complex tasks. This technique transforms big tasks into multiple manageable tasks and sheds light on the interpretation of the model's thinking process.\""
      ]
     },
     "execution_count": 62,
     "metadata": {},
     "output_type": "execute_result"
    }
   ],
   "source": [
    "from langchain_core.output_parsers import StrOutputParser\n",
    "from langchain_core.runnables import RunnablePassthrough\n",
    "\n",
    "rag_chain = (\n",
    "    {\"context\": retriever, \"question\": RunnablePassthrough()}\n",
    "    | prompt\n",
    "    | llm\n",
    "    | StrOutputParser()\n",
    ")\n",
    "\n",
    "rag_chain.invoke(\"What is Task Decomposition?\")"
   ]
  },
  {
   "cell_type": "code",
   "execution_count": null,
   "id": "f579bc41",
   "metadata": {},
   "outputs": [],
   "source": []
  }
 ],
 "metadata": {
  "kernelspec": {
   "display_name": "Python 3 (ipykernel)",
   "language": "python",
   "name": "python3"
  },
  "language_info": {
   "codemirror_mode": {
    "name": "ipython",
    "version": 3
   },
   "file_extension": ".py",
   "mimetype": "text/x-python",
   "name": "python",
   "nbconvert_exporter": "python",
   "pygments_lexer": "ipython3",
   "version": "3.11.5"
  }
 },
 "nbformat": 4,
 "nbformat_minor": 5
}
