{
 "cells": [
  {
   "cell_type": "code",
   "execution_count": 1,
   "id": "5b779c54",
   "metadata": {},
   "outputs": [
    {
     "name": "stdout",
     "output_type": "stream",
     "text": [
      "Requirement already satisfied: langchain_community in /Users/madhushantan/anaconda3/lib/python3.11/site-packages (0.2.14)\n",
      "Requirement already satisfied: tiktoken in /Users/madhushantan/anaconda3/lib/python3.11/site-packages (0.7.0)\n",
      "Requirement already satisfied: langchain-openai in /Users/madhushantan/anaconda3/lib/python3.11/site-packages (0.1.22)\n",
      "Requirement already satisfied: langchainhub in /Users/madhushantan/anaconda3/lib/python3.11/site-packages (0.1.21)\n",
      "Requirement already satisfied: chromadb in /Users/madhushantan/anaconda3/lib/python3.11/site-packages (0.5.3)\n",
      "Requirement already satisfied: langchain in /Users/madhushantan/anaconda3/lib/python3.11/site-packages (0.2.15)\n",
      "Requirement already satisfied: youtube-transcript-api in /Users/madhushantan/anaconda3/lib/python3.11/site-packages (0.6.2)\n",
      "Requirement already satisfied: pytube in /Users/madhushantan/anaconda3/lib/python3.11/site-packages (15.0.0)\n",
      "Requirement already satisfied: PyYAML>=5.3 in /Users/madhushantan/anaconda3/lib/python3.11/site-packages (from langchain_community) (6.0)\n",
      "Requirement already satisfied: SQLAlchemy<3,>=1.4 in /Users/madhushantan/anaconda3/lib/python3.11/site-packages (from langchain_community) (2.0.28)\n",
      "Requirement already satisfied: aiohttp<4.0.0,>=3.8.3 in /Users/madhushantan/anaconda3/lib/python3.11/site-packages (from langchain_community) (3.8.5)\n",
      "Requirement already satisfied: dataclasses-json<0.7,>=0.5.7 in /Users/madhushantan/anaconda3/lib/python3.11/site-packages (from langchain_community) (0.6.7)\n",
      "Requirement already satisfied: langchain-core==0.2.36 in /Users/madhushantan/anaconda3/lib/python3.11/site-packages (from langchain_community) (0.2.36)\n",
      "Requirement already satisfied: langsmith<0.2.0,>=0.1.0 in /Users/madhushantan/anaconda3/lib/python3.11/site-packages (from langchain_community) (0.1.104)\n",
      "Requirement already satisfied: numpy<2,>=1 in /Users/madhushantan/anaconda3/lib/python3.11/site-packages (from langchain_community) (1.24.3)\n",
      "Requirement already satisfied: requests<3,>=2 in /Users/madhushantan/anaconda3/lib/python3.11/site-packages (from langchain_community) (2.31.0)\n",
      "Requirement already satisfied: tenacity!=8.4.0,<9.0.0,>=8.1.0 in /Users/madhushantan/anaconda3/lib/python3.11/site-packages (from langchain_community) (8.5.0)\n",
      "Requirement already satisfied: jsonpatch<2.0,>=1.33 in /Users/madhushantan/anaconda3/lib/python3.11/site-packages (from langchain-core==0.2.36->langchain_community) (1.33)\n",
      "Requirement already satisfied: packaging<25,>=23.2 in /Users/madhushantan/anaconda3/lib/python3.11/site-packages (from langchain-core==0.2.36->langchain_community) (24.1)\n",
      "Requirement already satisfied: pydantic<3,>=1 in /Users/madhushantan/anaconda3/lib/python3.11/site-packages (from langchain-core==0.2.36->langchain_community) (2.7.2)\n",
      "Requirement already satisfied: typing-extensions>=4.7 in /Users/madhushantan/anaconda3/lib/python3.11/site-packages (from langchain-core==0.2.36->langchain_community) (4.12.2)\n",
      "Requirement already satisfied: regex>=2022.1.18 in /Users/madhushantan/anaconda3/lib/python3.11/site-packages (from tiktoken) (2022.7.9)\n",
      "Requirement already satisfied: openai<2.0.0,>=1.40.0 in /Users/madhushantan/anaconda3/lib/python3.11/site-packages (from langchain-openai) (1.42.0)\n",
      "Requirement already satisfied: types-requests<3.0.0.0,>=2.31.0.2 in /Users/madhushantan/anaconda3/lib/python3.11/site-packages (from langchainhub) (2.32.0.20240712)\n",
      "Requirement already satisfied: build>=1.0.3 in /Users/madhushantan/anaconda3/lib/python3.11/site-packages (from chromadb) (1.2.1)\n",
      "Requirement already satisfied: chroma-hnswlib==0.7.3 in /Users/madhushantan/anaconda3/lib/python3.11/site-packages (from chromadb) (0.7.3)\n",
      "Requirement already satisfied: fastapi>=0.95.2 in /Users/madhushantan/anaconda3/lib/python3.11/site-packages (from chromadb) (0.110.3)\n",
      "Requirement already satisfied: uvicorn>=0.18.3 in /Users/madhushantan/anaconda3/lib/python3.11/site-packages (from uvicorn[standard]>=0.18.3->chromadb) (0.27.1)\n",
      "Requirement already satisfied: posthog>=2.4.0 in /Users/madhushantan/anaconda3/lib/python3.11/site-packages (from chromadb) (3.5.2)\n",
      "Requirement already satisfied: onnxruntime>=1.14.1 in /Users/madhushantan/anaconda3/lib/python3.11/site-packages (from chromadb) (1.19.0)\n",
      "Requirement already satisfied: opentelemetry-api>=1.2.0 in /Users/madhushantan/anaconda3/lib/python3.11/site-packages (from chromadb) (1.26.0)\n",
      "Requirement already satisfied: opentelemetry-exporter-otlp-proto-grpc>=1.2.0 in /Users/madhushantan/anaconda3/lib/python3.11/site-packages (from chromadb) (1.26.0)\n",
      "Requirement already satisfied: opentelemetry-instrumentation-fastapi>=0.41b0 in /Users/madhushantan/anaconda3/lib/python3.11/site-packages (from chromadb) (0.47b0)\n",
      "Requirement already satisfied: opentelemetry-sdk>=1.2.0 in /Users/madhushantan/anaconda3/lib/python3.11/site-packages (from chromadb) (1.26.0)\n",
      "Requirement already satisfied: tokenizers>=0.13.2 in /Users/madhushantan/anaconda3/lib/python3.11/site-packages (from chromadb) (0.13.2)\n",
      "Requirement already satisfied: pypika>=0.48.9 in /Users/madhushantan/anaconda3/lib/python3.11/site-packages (from chromadb) (0.48.9)\n",
      "Requirement already satisfied: tqdm>=4.65.0 in /Users/madhushantan/anaconda3/lib/python3.11/site-packages (from chromadb) (4.65.0)\n",
      "Requirement already satisfied: overrides>=7.3.1 in /Users/madhushantan/anaconda3/lib/python3.11/site-packages (from chromadb) (7.7.0)\n",
      "Requirement already satisfied: importlib-resources in /Users/madhushantan/anaconda3/lib/python3.11/site-packages (from chromadb) (6.1.1)\n",
      "Requirement already satisfied: grpcio>=1.58.0 in /Users/madhushantan/anaconda3/lib/python3.11/site-packages (from chromadb) (1.62.0)\n",
      "Requirement already satisfied: bcrypt>=4.0.1 in /Users/madhushantan/anaconda3/lib/python3.11/site-packages (from chromadb) (4.2.0)\n",
      "Requirement already satisfied: typer>=0.9.0 in /Users/madhushantan/anaconda3/lib/python3.11/site-packages (from chromadb) (0.12.3)\n",
      "Requirement already satisfied: kubernetes>=28.1.0 in /Users/madhushantan/anaconda3/lib/python3.11/site-packages (from chromadb) (30.1.0)\n",
      "Requirement already satisfied: mmh3>=4.0.1 in /Users/madhushantan/anaconda3/lib/python3.11/site-packages (from chromadb) (4.1.0)\n",
      "Requirement already satisfied: orjson>=3.9.12 in /Users/madhushantan/anaconda3/lib/python3.11/site-packages (from chromadb) (3.10.3)\n",
      "Requirement already satisfied: httpx>=0.27.0 in /Users/madhushantan/anaconda3/lib/python3.11/site-packages (from chromadb) (0.27.0)\n",
      "Requirement already satisfied: langchain-text-splitters<0.3.0,>=0.2.0 in /Users/madhushantan/anaconda3/lib/python3.11/site-packages (from langchain) (0.2.2)\n",
      "Requirement already satisfied: attrs>=17.3.0 in /Users/madhushantan/anaconda3/lib/python3.11/site-packages (from aiohttp<4.0.0,>=3.8.3->langchain_community) (22.1.0)\n",
      "Requirement already satisfied: charset-normalizer<4.0,>=2.0 in /Users/madhushantan/anaconda3/lib/python3.11/site-packages (from aiohttp<4.0.0,>=3.8.3->langchain_community) (2.0.4)\n",
      "Requirement already satisfied: multidict<7.0,>=4.5 in /Users/madhushantan/anaconda3/lib/python3.11/site-packages (from aiohttp<4.0.0,>=3.8.3->langchain_community) (6.0.2)\n",
      "Requirement already satisfied: async-timeout<5.0,>=4.0.0a3 in /Users/madhushantan/anaconda3/lib/python3.11/site-packages (from aiohttp<4.0.0,>=3.8.3->langchain_community) (4.0.2)\n",
      "Requirement already satisfied: yarl<2.0,>=1.0 in /Users/madhushantan/anaconda3/lib/python3.11/site-packages (from aiohttp<4.0.0,>=3.8.3->langchain_community) (1.8.1)\n",
      "Requirement already satisfied: frozenlist>=1.1.1 in /Users/madhushantan/anaconda3/lib/python3.11/site-packages (from aiohttp<4.0.0,>=3.8.3->langchain_community) (1.3.3)\n",
      "Requirement already satisfied: aiosignal>=1.1.2 in /Users/madhushantan/anaconda3/lib/python3.11/site-packages (from aiohttp<4.0.0,>=3.8.3->langchain_community) (1.2.0)\n",
      "Requirement already satisfied: pyproject_hooks in /Users/madhushantan/anaconda3/lib/python3.11/site-packages (from build>=1.0.3->chromadb) (1.1.0)\n",
      "Requirement already satisfied: marshmallow<4.0.0,>=3.18.0 in /Users/madhushantan/anaconda3/lib/python3.11/site-packages (from dataclasses-json<0.7,>=0.5.7->langchain_community) (3.22.0)\n",
      "Requirement already satisfied: typing-inspect<1,>=0.4.0 in /Users/madhushantan/anaconda3/lib/python3.11/site-packages (from dataclasses-json<0.7,>=0.5.7->langchain_community) (0.9.0)\n",
      "Requirement already satisfied: starlette<0.38.0,>=0.37.2 in /Users/madhushantan/anaconda3/lib/python3.11/site-packages (from fastapi>=0.95.2->chromadb) (0.37.2)\n",
      "Requirement already satisfied: anyio in /Users/madhushantan/anaconda3/lib/python3.11/site-packages (from httpx>=0.27.0->chromadb) (3.5.0)\n",
      "Requirement already satisfied: certifi in /Users/madhushantan/anaconda3/lib/python3.11/site-packages (from httpx>=0.27.0->chromadb) (2024.2.2)\n",
      "Requirement already satisfied: httpcore==1.* in /Users/madhushantan/anaconda3/lib/python3.11/site-packages (from httpx>=0.27.0->chromadb) (1.0.4)\n",
      "Requirement already satisfied: idna in /Users/madhushantan/anaconda3/lib/python3.11/site-packages (from httpx>=0.27.0->chromadb) (3.6)\n",
      "Requirement already satisfied: sniffio in /Users/madhushantan/anaconda3/lib/python3.11/site-packages (from httpx>=0.27.0->chromadb) (1.2.0)\n",
      "Requirement already satisfied: h11<0.15,>=0.13 in /Users/madhushantan/anaconda3/lib/python3.11/site-packages (from httpcore==1.*->httpx>=0.27.0->chromadb) (0.14.0)\n",
      "Requirement already satisfied: six>=1.9.0 in /Users/madhushantan/anaconda3/lib/python3.11/site-packages (from kubernetes>=28.1.0->chromadb) (1.16.0)\n",
      "Requirement already satisfied: python-dateutil>=2.5.3 in /Users/madhushantan/anaconda3/lib/python3.11/site-packages (from kubernetes>=28.1.0->chromadb) (2.8.2)\n",
      "Requirement already satisfied: google-auth>=1.0.1 in /Users/madhushantan/anaconda3/lib/python3.11/site-packages (from kubernetes>=28.1.0->chromadb) (2.34.0)\n",
      "Requirement already satisfied: websocket-client!=0.40.0,!=0.41.*,!=0.42.*,>=0.32.0 in /Users/madhushantan/anaconda3/lib/python3.11/site-packages (from kubernetes>=28.1.0->chromadb) (0.58.0)\n",
      "Requirement already satisfied: requests-oauthlib in /Users/madhushantan/anaconda3/lib/python3.11/site-packages (from kubernetes>=28.1.0->chromadb) (2.0.0)\n",
      "Requirement already satisfied: oauthlib>=3.2.2 in /Users/madhushantan/anaconda3/lib/python3.11/site-packages (from kubernetes>=28.1.0->chromadb) (3.2.2)\n",
      "Requirement already satisfied: urllib3>=1.24.2 in /Users/madhushantan/anaconda3/lib/python3.11/site-packages (from kubernetes>=28.1.0->chromadb) (2.2.1)\n",
      "Requirement already satisfied: coloredlogs in /Users/madhushantan/anaconda3/lib/python3.11/site-packages (from onnxruntime>=1.14.1->chromadb) (15.0.1)\n",
      "Requirement already satisfied: flatbuffers in /Users/madhushantan/anaconda3/lib/python3.11/site-packages (from onnxruntime>=1.14.1->chromadb) (24.3.7)\n",
      "Requirement already satisfied: protobuf in /Users/madhushantan/anaconda3/lib/python3.11/site-packages (from onnxruntime>=1.14.1->chromadb) (4.25.3)\n",
      "Requirement already satisfied: sympy in /Users/madhushantan/anaconda3/lib/python3.11/site-packages (from onnxruntime>=1.14.1->chromadb) (1.11.1)\n",
      "Requirement already satisfied: distro<2,>=1.7.0 in /Users/madhushantan/anaconda3/lib/python3.11/site-packages (from openai<2.0.0,>=1.40.0->langchain-openai) (1.9.0)\n",
      "Requirement already satisfied: jiter<1,>=0.4.0 in /Users/madhushantan/anaconda3/lib/python3.11/site-packages (from openai<2.0.0,>=1.40.0->langchain-openai) (0.5.0)\n",
      "Requirement already satisfied: deprecated>=1.2.6 in /Users/madhushantan/anaconda3/lib/python3.11/site-packages (from opentelemetry-api>=1.2.0->chromadb) (1.2.14)\n",
      "Requirement already satisfied: importlib-metadata<=8.0.0,>=6.0 in /Users/madhushantan/anaconda3/lib/python3.11/site-packages (from opentelemetry-api>=1.2.0->chromadb) (7.0.1)\n",
      "Requirement already satisfied: googleapis-common-protos~=1.52 in /Users/madhushantan/anaconda3/lib/python3.11/site-packages (from opentelemetry-exporter-otlp-proto-grpc>=1.2.0->chromadb) (1.63.2)\n",
      "Requirement already satisfied: opentelemetry-exporter-otlp-proto-common==1.26.0 in /Users/madhushantan/anaconda3/lib/python3.11/site-packages (from opentelemetry-exporter-otlp-proto-grpc>=1.2.0->chromadb) (1.26.0)\n",
      "Requirement already satisfied: opentelemetry-proto==1.26.0 in /Users/madhushantan/anaconda3/lib/python3.11/site-packages (from opentelemetry-exporter-otlp-proto-grpc>=1.2.0->chromadb) (1.26.0)\n",
      "Requirement already satisfied: opentelemetry-instrumentation-asgi==0.47b0 in /Users/madhushantan/anaconda3/lib/python3.11/site-packages (from opentelemetry-instrumentation-fastapi>=0.41b0->chromadb) (0.47b0)\n",
      "Requirement already satisfied: opentelemetry-instrumentation==0.47b0 in /Users/madhushantan/anaconda3/lib/python3.11/site-packages (from opentelemetry-instrumentation-fastapi>=0.41b0->chromadb) (0.47b0)\n",
      "Requirement already satisfied: opentelemetry-semantic-conventions==0.47b0 in /Users/madhushantan/anaconda3/lib/python3.11/site-packages (from opentelemetry-instrumentation-fastapi>=0.41b0->chromadb) (0.47b0)\n",
      "Requirement already satisfied: opentelemetry-util-http==0.47b0 in /Users/madhushantan/anaconda3/lib/python3.11/site-packages (from opentelemetry-instrumentation-fastapi>=0.41b0->chromadb) (0.47b0)\n"
     ]
    },
    {
     "name": "stdout",
     "output_type": "stream",
     "text": [
      "Requirement already satisfied: setuptools>=16.0 in /Users/madhushantan/anaconda3/lib/python3.11/site-packages (from opentelemetry-instrumentation==0.47b0->opentelemetry-instrumentation-fastapi>=0.41b0->chromadb) (69.5.1)\n",
      "Requirement already satisfied: wrapt<2.0.0,>=1.0.0 in /Users/madhushantan/anaconda3/lib/python3.11/site-packages (from opentelemetry-instrumentation==0.47b0->opentelemetry-instrumentation-fastapi>=0.41b0->chromadb) (1.14.1)\n",
      "Requirement already satisfied: asgiref~=3.0 in /Users/madhushantan/anaconda3/lib/python3.11/site-packages (from opentelemetry-instrumentation-asgi==0.47b0->opentelemetry-instrumentation-fastapi>=0.41b0->chromadb) (3.8.1)\n",
      "Requirement already satisfied: monotonic>=1.5 in /Users/madhushantan/anaconda3/lib/python3.11/site-packages (from posthog>=2.4.0->chromadb) (1.6)\n",
      "Requirement already satisfied: backoff>=1.10.0 in /Users/madhushantan/anaconda3/lib/python3.11/site-packages (from posthog>=2.4.0->chromadb) (2.2.1)\n",
      "Requirement already satisfied: annotated-types>=0.4.0 in /Users/madhushantan/anaconda3/lib/python3.11/site-packages (from pydantic<3,>=1->langchain-core==0.2.36->langchain_community) (0.6.0)\n",
      "Requirement already satisfied: pydantic-core==2.18.3 in /Users/madhushantan/anaconda3/lib/python3.11/site-packages (from pydantic<3,>=1->langchain-core==0.2.36->langchain_community) (2.18.3)\n",
      "Requirement already satisfied: click>=8.0.0 in /Users/madhushantan/anaconda3/lib/python3.11/site-packages (from typer>=0.9.0->chromadb) (8.1.7)\n",
      "Requirement already satisfied: shellingham>=1.3.0 in /Users/madhushantan/anaconda3/lib/python3.11/site-packages (from typer>=0.9.0->chromadb) (1.5.4)\n",
      "Requirement already satisfied: rich>=10.11.0 in /Users/madhushantan/anaconda3/lib/python3.11/site-packages (from typer>=0.9.0->chromadb) (13.7.0)\n",
      "Requirement already satisfied: httptools>=0.5.0 in /Users/madhushantan/anaconda3/lib/python3.11/site-packages (from uvicorn[standard]>=0.18.3->chromadb) (0.6.1)\n",
      "Requirement already satisfied: python-dotenv>=0.13 in /Users/madhushantan/anaconda3/lib/python3.11/site-packages (from uvicorn[standard]>=0.18.3->chromadb) (0.21.0)\n",
      "Requirement already satisfied: uvloop!=0.15.0,!=0.15.1,>=0.14.0 in /Users/madhushantan/anaconda3/lib/python3.11/site-packages (from uvicorn[standard]>=0.18.3->chromadb) (0.19.0)\n",
      "Requirement already satisfied: watchfiles>=0.13 in /Users/madhushantan/anaconda3/lib/python3.11/site-packages (from uvicorn[standard]>=0.18.3->chromadb) (0.22.0)\n",
      "Requirement already satisfied: websockets>=10.4 in /Users/madhushantan/anaconda3/lib/python3.11/site-packages (from uvicorn[standard]>=0.18.3->chromadb) (11.0.3)\n",
      "Requirement already satisfied: cachetools<6.0,>=2.0.0 in /Users/madhushantan/anaconda3/lib/python3.11/site-packages (from google-auth>=1.0.1->kubernetes>=28.1.0->chromadb) (5.3.3)\n",
      "Requirement already satisfied: pyasn1-modules>=0.2.1 in /Users/madhushantan/anaconda3/lib/python3.11/site-packages (from google-auth>=1.0.1->kubernetes>=28.1.0->chromadb) (0.2.8)\n",
      "Requirement already satisfied: rsa<5,>=3.1.4 in /Users/madhushantan/anaconda3/lib/python3.11/site-packages (from google-auth>=1.0.1->kubernetes>=28.1.0->chromadb) (4.7.2)\n",
      "Requirement already satisfied: zipp>=0.5 in /Users/madhushantan/anaconda3/lib/python3.11/site-packages (from importlib-metadata<=8.0.0,>=6.0->opentelemetry-api>=1.2.0->chromadb) (3.11.0)\n",
      "Requirement already satisfied: jsonpointer>=1.9 in /Users/madhushantan/anaconda3/lib/python3.11/site-packages (from jsonpatch<2.0,>=1.33->langchain-core==0.2.36->langchain_community) (2.1)\n",
      "Requirement already satisfied: markdown-it-py>=2.2.0 in /Users/madhushantan/anaconda3/lib/python3.11/site-packages (from rich>=10.11.0->typer>=0.9.0->chromadb) (2.2.0)\n",
      "Requirement already satisfied: pygments<3.0.0,>=2.13.0 in /Users/madhushantan/anaconda3/lib/python3.11/site-packages (from rich>=10.11.0->typer>=0.9.0->chromadb) (2.15.1)\n",
      "Requirement already satisfied: mypy-extensions>=0.3.0 in /Users/madhushantan/anaconda3/lib/python3.11/site-packages (from typing-inspect<1,>=0.4.0->dataclasses-json<0.7,>=0.5.7->langchain_community) (1.0.0)\n",
      "Requirement already satisfied: humanfriendly>=9.1 in /Users/madhushantan/anaconda3/lib/python3.11/site-packages (from coloredlogs->onnxruntime>=1.14.1->chromadb) (10.0)\n",
      "Requirement already satisfied: mpmath>=0.19 in /Users/madhushantan/anaconda3/lib/python3.11/site-packages (from sympy->onnxruntime>=1.14.1->chromadb) (1.3.0)\n",
      "Requirement already satisfied: mdurl~=0.1 in /Users/madhushantan/anaconda3/lib/python3.11/site-packages (from markdown-it-py>=2.2.0->rich>=10.11.0->typer>=0.9.0->chromadb) (0.1.0)\n",
      "Requirement already satisfied: pyasn1<0.5.0,>=0.4.6 in /Users/madhushantan/anaconda3/lib/python3.11/site-packages (from pyasn1-modules>=0.2.1->google-auth>=1.0.1->kubernetes>=28.1.0->chromadb) (0.4.8)\n",
      "Note: you may need to restart the kernel to use updated packages.\n"
     ]
    }
   ],
   "source": [
    "pip install langchain_community tiktoken langchain-openai langchainhub chromadb langchain youtube-transcript-api pytube\n"
   ]
  },
  {
   "cell_type": "code",
   "execution_count": 2,
   "id": "eca10e52",
   "metadata": {},
   "outputs": [
    {
     "name": "stdout",
     "output_type": "stream",
     "text": [
      "Langchain: ········\n",
      "Openai: ········\n"
     ]
    }
   ],
   "source": [
    "import os\n",
    "import getpass\n",
    "os.environ['LANGCHAIN_TRACING_V2'] = 'true'\n",
    "os.environ['LANGCHAIN_ENDPOINT'] = 'https://api.smith.langchain.com'\n",
    "os.environ['LANGCHAIN_API_KEY'] = getpass.getpass(\"Langchain: \")\n",
    "os.environ['OPENAI_API_KEY'] = getpass.getpass(\"Openai: \")"
   ]
  },
  {
   "cell_type": "code",
   "execution_count": 3,
   "id": "392f27b2",
   "metadata": {},
   "outputs": [
    {
     "name": "stderr",
     "output_type": "stream",
     "text": [
      "USER_AGENT environment variable not set, consider setting it to identify your requests.\n"
     ]
    }
   ],
   "source": [
    "from langchain_community.document_loaders import WebBaseLoader\n",
    "from langchain_text_splitters import RecursiveCharacterTextSplitter\n",
    "\n",
    "loader = WebBaseLoader(\"https://lilianweng.github.io/posts/2023-06-23-agent/\")\n",
    "docs = loader.load()\n",
    "\n",
    "loader = WebBaseLoader(\"https://lilianweng.github.io/posts/2024-02-05-human-data-quality/\")\n",
    "docs.extend(loader.load())"
   ]
  },
  {
   "cell_type": "code",
   "execution_count": 8,
   "id": "d22425c0",
   "metadata": {},
   "outputs": [
    {
     "data": {
      "text/plain": [
       "'The document discusses the concept of building autonomous agents powered by large language models (LLM). It covers key components of such agents including planning, memory, and tool use. The document provides examples of proof-of-concept demos like AutoGPT, GPT-Engineer, and BabyAGI, showcasing the potential of LLMs beyond generating text. Challenges such as finite context length, reliability of natural language interface, and long-term planning are also highlighted. Case studies like ChemCrow and Generative Agents Simulation demonstrate the application of LLM-powered agents in scientific discovery and behavior simulation. The document also references various studies and frameworks related to LLM-powered agents.'"
      ]
     },
     "execution_count": 8,
     "metadata": {},
     "output_type": "execute_result"
    }
   ],
   "source": [
    "import uuid\n",
    "from langchain_core.output_parsers import StrOutputParser\n",
    "from langchain_openai import ChatOpenAI\n",
    "from langchain_core.prompts import ChatPromptTemplate\n",
    "from langchain_core.documents import Document\n",
    "\n",
    "chain = ({\"doc\": lambda x: x.page_content}\n",
    "        | ChatPromptTemplate.from_template(\"Summarize the following document:\\n\\n{doc}\")\n",
    "        | ChatOpenAI(model=\"gpt-3.5-turbo\", max_retries = 0)\n",
    "        | StrOutputParser()\n",
    "        )\n",
    "summaries = chain.batch(docs,{\"max_concurrency\" : 5})\n",
    "summaries[0]"
   ]
  },
  {
   "cell_type": "code",
   "execution_count": 9,
   "id": "2a2df140",
   "metadata": {},
   "outputs": [
    {
     "name": "stderr",
     "output_type": "stream",
     "text": [
      "/var/folders/kq/90ww7__n28d6svqwm1clq9g00000gn/T/ipykernel_5927/21713248.py:7: LangChainDeprecationWarning: The class `Chroma` was deprecated in LangChain 0.2.9 and will be removed in 1.0. An updated version of the class exists in the langchain-chroma package and should be used instead. To use it run `pip install -U langchain-chroma` and import as `from langchain_chroma import Chroma`.\n",
      "  vectorstore = Chroma(collection_name=\"summaries\",\n"
     ]
    }
   ],
   "source": [
    "from langchain.storage import InMemoryByteStore\n",
    "from langchain_openai import OpenAIEmbeddings\n",
    "from langchain_community.vectorstores import Chroma\n",
    "from langchain.retrievers.multi_vector import MultiVectorRetriever\n",
    "\n",
    "# The vectorstore to use to index the child chunks\n",
    "vectorstore = Chroma(collection_name=\"summaries\",\n",
    "                     embedding_function=OpenAIEmbeddings())\n",
    "\n",
    "# The storage layer for the parent documents\n",
    "store = InMemoryByteStore()\n",
    "id_key = \"doc_id\"\n",
    "\n",
    "# The retriever\n",
    "retriever = MultiVectorRetriever(\n",
    "    vectorstore=vectorstore,\n",
    "    byte_store=store,\n",
    "    id_key=id_key,\n",
    ")\n",
    "doc_ids = [str(uuid.uuid4()) for _ in docs]\n",
    "\n",
    "# Docs linked to summaries\n",
    "summary_docs = [\n",
    "    Document(page_content=s, metadata={id_key: doc_ids[i]})\n",
    "    for i, s in enumerate(summaries)\n",
    "]\n",
    "\n",
    "# Add\n",
    "retriever.vectorstore.add_documents(summary_docs)\n",
    "retriever.docstore.mset(list(zip(doc_ids, docs)))"
   ]
  },
  {
   "cell_type": "code",
   "execution_count": 10,
   "id": "28dfc824",
   "metadata": {},
   "outputs": [
    {
     "data": {
      "text/plain": [
       "Document(metadata={'doc_id': '4b955642-5bf7-4d06-984c-fdbbc48cf54b'}, page_content='The document discusses the concept of building autonomous agents powered by large language models (LLM). It covers key components of such agents including planning, memory, and tool use. The document provides examples of proof-of-concept demos like AutoGPT, GPT-Engineer, and BabyAGI, showcasing the potential of LLMs beyond generating text. Challenges such as finite context length, reliability of natural language interface, and long-term planning are also highlighted. Case studies like ChemCrow and Generative Agents Simulation demonstrate the application of LLM-powered agents in scientific discovery and behavior simulation. The document also references various studies and frameworks related to LLM-powered agents.')"
      ]
     },
     "execution_count": 10,
     "metadata": {},
     "output_type": "execute_result"
    }
   ],
   "source": [
    "query = \"Memory in agents\"\n",
    "sub_docs = vectorstore.similarity_search(query,k=1)\n",
    "sub_docs[0]"
   ]
  },
  {
   "cell_type": "code",
   "execution_count": null,
   "id": "5997d6e6",
   "metadata": {},
   "outputs": [],
   "source": []
  }
 ],
 "metadata": {
  "kernelspec": {
   "display_name": "Python 3 (ipykernel)",
   "language": "python",
   "name": "python3"
  },
  "language_info": {
   "codemirror_mode": {
    "name": "ipython",
    "version": 3
   },
   "file_extension": ".py",
   "mimetype": "text/x-python",
   "name": "python",
   "nbconvert_exporter": "python",
   "pygments_lexer": "ipython3",
   "version": "3.11.5"
  }
 },
 "nbformat": 4,
 "nbformat_minor": 5
}
